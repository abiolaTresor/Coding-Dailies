{
 "cells": [
  {
   "cell_type": "markdown",
   "metadata": {},
   "source": [
    "The problem can be solved recurrently. When I take a staircase with $N$ steps, I have possibilities that start with one step and those that start with two steps. So, I can affirm that the total number of possibilities is equal to the number of possibilities related to the $N-1$ remaining steps plus the number of possibilities related to the $N-2$ remaining possibilities. I can thus implement the bellow recurrent function."
   ]
  },
  {
   "cell_type": "code",
   "execution_count": 1,
   "metadata": {},
   "outputs": [],
   "source": [
    "def num_possibilities(N):\n",
    "    if N == 1:\n",
    "        return 1\n",
    "    elif N == 2:\n",
    "        return 2\n",
    "    else:\n",
    "        return num_possibilities(N-1) + num_possibilities(N-2)"
   ]
  },
  {
   "cell_type": "code",
   "execution_count": 2,
   "metadata": {},
   "outputs": [],
   "source": [
    "assert num_possibilities(4) == 5"
   ]
  },
  {
   "cell_type": "markdown",
   "metadata": {},
   "source": [
    "If the possibilities of steps are given in a set $X$, the question here is: what if the number of steps on the staircase cannot be written as a combination of the possibilities of steps? Must the guy climbing the stairs pay attention to the future possibility everytime he takes a step? Let's say that X is given in a way that no at least one choice in X can be made at every step. Let's say X always contains 1 i.e the cliber can always make one step up."
   ]
  },
  {
   "cell_type": "code",
   "execution_count": 1,
   "metadata": {},
   "outputs": [],
   "source": [
    "#def num_possibilities_given_X(N,X):\n",
    "#    num = 0\n",
    "#    if N == 1:\n",
    "#        num+= 1\n",
    "#    else:\n",
    "#        for element in X:\n",
    "#            if N-element > 0:\n",
    " #               num+= num_possibilities_given_X(N-element,X)\n",
    "#    return num"
   ]
  },
  {
   "cell_type": "code",
   "execution_count": 4,
   "metadata": {},
   "outputs": [],
   "source": [
    "#print(num_possibilities_given_X(4,{1,2}) )"
   ]
  },
  {
   "cell_type": "code",
   "execution_count": null,
   "metadata": {},
   "outputs": [],
   "source": []
  }
 ],
 "metadata": {
  "kernelspec": {
   "display_name": "Python 3",
   "language": "python",
   "name": "python3"
  },
  "language_info": {
   "codemirror_mode": {
    "name": "ipython",
    "version": 3
   },
   "file_extension": ".py",
   "mimetype": "text/x-python",
   "name": "python",
   "nbconvert_exporter": "python",
   "pygments_lexer": "ipython3",
   "version": "3.8.3"
  }
 },
 "nbformat": 4,
 "nbformat_minor": 4
}
