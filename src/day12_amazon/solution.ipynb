{
 "cells": [
  {
   "cell_type": "markdown",
   "metadata": {},
   "source": [
    "The problem can be solved recurrently. When I take a staircase with $N$ steps, I have possibilities that start with one step and those that start with two steps. So, I can affirm that the total number of possibilities is equal to the number of possibilities related to the $N-1$ remaining steps plus the number of possibilities related to the $N-2$ remaining possibilities. I can thus implement the bellow recurrent function."
   ]
  },
  {
   "cell_type": "code",
   "execution_count": 1,
   "metadata": {},
   "outputs": [],
   "source": [
    "def num_possibilities(N):\n",
    "    if N == 1:\n",
    "        return 1\n",
    "    elif N == 2:\n",
    "        return 2\n",
    "    else:\n",
    "        return num_possibilities(N-1) + num_possibilities(N-2)"
   ]
  },
  {
   "cell_type": "code",
   "execution_count": 2,
   "metadata": {},
   "outputs": [],
   "source": [
    "assert num_possibilities(4) == 5"
   ]
  }
 ],
 "metadata": {
  "kernelspec": {
   "display_name": "Python 3",
   "language": "python",
   "name": "python3"
  },
  "language_info": {
   "codemirror_mode": {
    "name": "ipython",
    "version": 3
   },
   "file_extension": ".py",
   "mimetype": "text/x-python",
   "name": "python",
   "nbconvert_exporter": "python",
   "pygments_lexer": "ipython3",
   "version": "3.8.3"
  }
 },
 "nbformat": 4,
 "nbformat_minor": 4
}
