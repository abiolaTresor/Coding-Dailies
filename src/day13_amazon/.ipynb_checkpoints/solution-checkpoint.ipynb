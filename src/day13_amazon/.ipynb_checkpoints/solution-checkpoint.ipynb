{
 "cells": [
  {
   "cell_type": "markdown",
   "metadata": {},
   "source": [
    "We'll first consider a function that computes the length of the longer substring starting at a given index. Then, we can get the desired result by looking at substrings by sliding over all indexes."
   ]
  },
  {
   "cell_type": "code",
   "execution_count": 15,
   "metadata": {},
   "outputs": [],
   "source": [
    "def count_longest_interm(s,k,i):\n",
    "    sub_s = s[i:]\n",
    "    seen = set()\n",
    "    counter = 0\n",
    "    for char in sub_s:\n",
    "        if char in seen:\n",
    "            seen.add(char)\n",
    "            counter +=1\n",
    "        else:\n",
    "            if len(seen) < k:\n",
    "                seen.add(char)\n",
    "                counter +=1\n",
    "            else:\n",
    "                break\n",
    "    return counter"
   ]
  },
  {
   "cell_type": "code",
   "execution_count": 16,
   "metadata": {},
   "outputs": [],
   "source": [
    "def count_longest(s,k):\n",
    "    lengths = []\n",
    "    for i in range(len(s)):\n",
    "        lengths.append(count_longest_interm(s,k,i))\n",
    "    return max(lengths)"
   ]
  },
  {
   "cell_type": "code",
   "execution_count": 18,
   "metadata": {},
   "outputs": [],
   "source": [
    "assert count_longest(\"abcba\",2) == 3"
   ]
  }
 ],
 "metadata": {
  "kernelspec": {
   "display_name": "Python 3",
   "language": "python",
   "name": "python3"
  },
  "language_info": {
   "codemirror_mode": {
    "name": "ipython",
    "version": 3
   },
   "file_extension": ".py",
   "mimetype": "text/x-python",
   "name": "python",
   "nbconvert_exporter": "python",
   "pygments_lexer": "ipython3",
   "version": "3.8.3"
  }
 },
 "nbformat": 4,
 "nbformat_minor": 4
}
