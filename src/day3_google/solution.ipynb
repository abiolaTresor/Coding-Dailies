{
 "cells": [
  {
   "cell_type": "code",
   "execution_count": 57,
   "metadata": {},
   "outputs": [],
   "source": [
    "class Node:\n",
    "    def __init__(self, val, left=None, right=None):\n",
    "        self.val = val\n",
    "        self.left = left\n",
    "        self.right = right"
   ]
  },
  {
   "cell_type": "code",
   "execution_count": 58,
   "metadata": {},
   "outputs": [],
   "source": [
    "node = Node('root', Node('left', Node('left.left')), Node('right'))"
   ]
  },
  {
   "cell_type": "code",
   "execution_count": 59,
   "metadata": {},
   "outputs": [],
   "source": [
    "def depth(tree):\n",
    "    if tree.val == 'root':\n",
    "        return 0\n",
    "    elif tree.val in ['left','roght']:\n",
    "        return 1\n",
    "    else:\n",
    "        return len(tree.val.split('.'))"
   ]
  },
  {
   "cell_type": "code",
   "execution_count": 60,
   "metadata": {},
   "outputs": [],
   "source": [
    "def serialize(tree):\n",
    "    if tree==None:\n",
    "        to_return = \"{\"+\"}\"\n",
    "    else:\n",
    "        value = tree.val\n",
    "        left_sub_tree = tree.left\n",
    "        right_sub_tree = tree.right\n",
    "        to_return =  value +str(depth(tree))+ serialize(left_sub_tree)+str(depth(tree))+serialize(right_sub_tree)\n",
    "    return to_return"
   ]
  },
  {
   "cell_type": "code",
   "execution_count": 61,
   "metadata": {},
   "outputs": [
    {
     "name": "stdout",
     "output_type": "stream",
     "text": [
      "root0left1left.left2{}2{}1{}0right1{}1{}\n"
     ]
    }
   ],
   "source": [
    "print(serialize(node))"
   ]
  },
  {
   "cell_type": "code",
   "execution_count": 62,
   "metadata": {},
   "outputs": [],
   "source": [
    "def pre_deserialize(string,depth):\n",
    "    macro = string.split(str(depth))\n",
    "    if macro[1]==\"{}\" and macro[2] != \"{}\":\n",
    "        to_return = Node(macro[0],right=pred_desirialize(macro[2], depth+1))\n",
    "    elif macro[1]!=\"{}\" and macro[2] == \"{}\":\n",
    "        to_return = Node(macro[0],pre_deserialize(macro[1], depth+1))\n",
    "    elif macro[1]==\"{}\" and macro[2] == \"{}\":\n",
    "        to_return = Node(macro[0])\n",
    "    else:\n",
    "        to_return = Node(macro[0],pre_deserialize(macro[1], depth+1), pre_deserialize(macro[2], depth+1))\n",
    "    return to_return"
   ]
  },
  {
   "cell_type": "code",
   "execution_count": 63,
   "metadata": {},
   "outputs": [],
   "source": [
    "def deserialize(string):\n",
    "    return pre_deserialize(string,0)"
   ]
  },
  {
   "cell_type": "code",
   "execution_count": 64,
   "metadata": {},
   "outputs": [
    {
     "data": {
      "text/plain": [
       "<__main__.Node at 0x7fb6fc0d93d0>"
      ]
     },
     "execution_count": 64,
     "metadata": {},
     "output_type": "execute_result"
    }
   ],
   "source": [
    "deserialize('root0left1left.left2{}2{}1{}0right1{}1{}')"
   ]
  },
  {
   "cell_type": "code",
   "execution_count": 65,
   "metadata": {},
   "outputs": [],
   "source": [
    "assert deserialize(serialize(node)).left.left.val == 'left.left'"
   ]
  },
  {
   "cell_type": "code",
   "execution_count": null,
   "metadata": {},
   "outputs": [],
   "source": []
  }
 ],
 "metadata": {
  "kernelspec": {
   "display_name": "Python 3",
   "language": "python",
   "name": "python3"
  },
  "language_info": {
   "codemirror_mode": {
    "name": "ipython",
    "version": 3
   },
   "file_extension": ".py",
   "mimetype": "text/x-python",
   "name": "python",
   "nbconvert_exporter": "python",
   "pygments_lexer": "ipython3",
   "version": "3.8.3"
  }
 },
 "nbformat": 4,
 "nbformat_minor": 4
}
