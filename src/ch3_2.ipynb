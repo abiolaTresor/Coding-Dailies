{
  "nbformat": 4,
  "nbformat_minor": 0,
  "metadata": {
    "colab": {
      "name": "ch3_2.ipynb",
      "provenance": [],
      "collapsed_sections": [],
      "authorship_tag": "ABX9TyO4DMHx34rwRQIZvopEV+1q",
      "include_colab_link": true
    },
    "kernelspec": {
      "name": "python3",
      "display_name": "Python 3"
    },
    "language_info": {
      "name": "python"
    }
  },
  "cells": [
    {
      "cell_type": "markdown",
      "metadata": {
        "id": "view-in-github",
        "colab_type": "text"
      },
      "source": [
        "<a href=\"https://colab.research.google.com/github/abiolaTresor/Coding-Dailies/blob/master/src/ch3_2.ipynb\" target=\"_parent\"><img src=\"https://colab.research.google.com/assets/colab-badge.svg\" alt=\"Open In Colab\"/></a>"
      ]
    },
    {
      "cell_type": "code",
      "metadata": {
        "id": "agyFrcIGjK2s"
      },
      "source": [
        "class Node():\n",
        "  def __init__(self, data):\n",
        "    self.data__ = data\n",
        "    self.next__ = None\n",
        "    self.min__ = data\n",
        "  \n",
        "  def set_next(self,next):\n",
        "    new_min = min(self.min__, next.get_min())\n",
        "    self.next__ = next\n",
        "    self.min__ = new_min\n",
        "\n",
        "    return True\n",
        "\n",
        "  def get_min(self):\n",
        "    return self.min__\n",
        "\n",
        "  def set_data(self, data):\n",
        "    self.data__ = data\n",
        "    if self.next__ is None:\n",
        "      self.min__ = self.data__\n",
        "    else:\n",
        "      self.min__ = min(self.data__, self.next__.get_min())\n",
        "    return True\n",
        "\n",
        "  def get_data(self):\n",
        "    return self.data__\n",
        "\n",
        "  def get_next(self):\n",
        "    return self.next__\n",
        "\n",
        "  def __eq__(self, other):\n",
        "    if isinstance(other, Node):\n",
        "      return self.data__ == other.get_data()\n",
        "    else:\n",
        "      return False\n",
        "\n"
      ],
      "execution_count": 119,
      "outputs": []
    },
    {
      "cell_type": "code",
      "metadata": {
        "id": "lUzKxFdRFlH4"
      },
      "source": [
        "#tests\n",
        "node1 = Node(5)\n",
        "node2 = Node(7)"
      ],
      "execution_count": 120,
      "outputs": []
    },
    {
      "cell_type": "code",
      "metadata": {
        "colab": {
          "base_uri": "https://localhost:8080/"
        },
        "id": "u92ax29sFyEZ",
        "outputId": "6c958953-d12a-4cb3-b66f-de0392cfcde7"
      },
      "source": [
        "node1.get_data()"
      ],
      "execution_count": 121,
      "outputs": [
        {
          "output_type": "execute_result",
          "data": {
            "text/plain": [
              "5"
            ]
          },
          "metadata": {},
          "execution_count": 121
        }
      ]
    },
    {
      "cell_type": "code",
      "metadata": {
        "colab": {
          "base_uri": "https://localhost:8080/"
        },
        "id": "QJVeWjbcF1hU",
        "outputId": "007b4d5e-af79-4476-dedf-5974fcec284c"
      },
      "source": [
        "node1.set_data(10)"
      ],
      "execution_count": 122,
      "outputs": [
        {
          "output_type": "execute_result",
          "data": {
            "text/plain": [
              "True"
            ]
          },
          "metadata": {},
          "execution_count": 122
        }
      ]
    },
    {
      "cell_type": "code",
      "metadata": {
        "colab": {
          "base_uri": "https://localhost:8080/"
        },
        "id": "r0m9PYeBF8YH",
        "outputId": "06a309d6-45d8-49ad-bf8c-384ba3e1d9b8"
      },
      "source": [
        "node2.get_data()"
      ],
      "execution_count": 123,
      "outputs": [
        {
          "output_type": "execute_result",
          "data": {
            "text/plain": [
              "7"
            ]
          },
          "metadata": {},
          "execution_count": 123
        }
      ]
    },
    {
      "cell_type": "code",
      "metadata": {
        "colab": {
          "base_uri": "https://localhost:8080/"
        },
        "id": "u3EFZiD-F_6G",
        "outputId": "0266d80e-9aec-496b-85ae-b77b5762b79b"
      },
      "source": [
        "node1.get_data()"
      ],
      "execution_count": 124,
      "outputs": [
        {
          "output_type": "execute_result",
          "data": {
            "text/plain": [
              "10"
            ]
          },
          "metadata": {},
          "execution_count": 124
        }
      ]
    },
    {
      "cell_type": "code",
      "metadata": {
        "colab": {
          "base_uri": "https://localhost:8080/"
        },
        "id": "JbN5OS8dGCur",
        "outputId": "40f98cee-58b1-47e1-a992-276e45fd1c38"
      },
      "source": [
        "node1 == node1"
      ],
      "execution_count": 125,
      "outputs": [
        {
          "output_type": "execute_result",
          "data": {
            "text/plain": [
              "True"
            ]
          },
          "metadata": {},
          "execution_count": 125
        }
      ]
    },
    {
      "cell_type": "code",
      "metadata": {
        "colab": {
          "base_uri": "https://localhost:8080/"
        },
        "id": "KXAGwL8HGFNx",
        "outputId": "904b5ad3-88ad-41d4-b72b-e8d5f4a9a832"
      },
      "source": [
        "node1 == 2"
      ],
      "execution_count": 126,
      "outputs": [
        {
          "output_type": "execute_result",
          "data": {
            "text/plain": [
              "False"
            ]
          },
          "metadata": {},
          "execution_count": 126
        }
      ]
    },
    {
      "cell_type": "code",
      "metadata": {
        "id": "TiwKbgmoGTSC"
      },
      "source": [
        "class Stack():\n",
        "  def __init__(self, top):\n",
        "    self.top__ = top\n",
        "    #self.top__.set_next(None)\n",
        "    self.min__ = self.top__.get_min()\n",
        "\n",
        "  def is_empty(self):\n",
        "    top = self.top__\n",
        "    return top is None\n",
        "\n",
        "  def peek(self):\n",
        "    return self.top__\n",
        "\n",
        "  def push(self, item):\n",
        "    item.set_next(self.top__)\n",
        "    self.top__ = item\n",
        "    self.min__ = self.top__.get_min()\n",
        "    return True\n",
        "\n",
        "  def pop(self):\n",
        "    if self.is_empty():\n",
        "      return None\n",
        "    old_top = self.top__\n",
        "    self.top__ = self.top__.get_next()\n",
        "    self.min__ = self.top__.get_min()\n",
        "    return old_top\n",
        "\n",
        "  def get_min(self):\n",
        "    if self.is_empty():\n",
        "      return None \n",
        "    return self.min__\n",
        "\n",
        "  def __str__(self):\n",
        "    arr = []\n",
        "    node = self.top__\n",
        "    while not node is None:\n",
        "      arr.append(str(node.get_data()))\n",
        "      arr.append(\"->\")\n",
        "      node = node.get_next()\n",
        "    arr.append(\"None\")\n",
        "    return \"\".join(arr)\n",
        "\n",
        "  \n"
      ],
      "execution_count": 127,
      "outputs": []
    },
    {
      "cell_type": "code",
      "metadata": {
        "colab": {
          "base_uri": "https://localhost:8080/"
        },
        "id": "VdnR5wRiJbXt",
        "outputId": "7a503389-736c-4aa4-e192-a3832909c714"
      },
      "source": [
        "node1.get_data()"
      ],
      "execution_count": 128,
      "outputs": [
        {
          "output_type": "execute_result",
          "data": {
            "text/plain": [
              "10"
            ]
          },
          "metadata": {},
          "execution_count": 128
        }
      ]
    },
    {
      "cell_type": "code",
      "metadata": {
        "colab": {
          "base_uri": "https://localhost:8080/"
        },
        "id": "E3w6ijr5JgDB",
        "outputId": "dc39fec0-133e-49d0-e32e-68624667ace5"
      },
      "source": [
        "node2.get_data()"
      ],
      "execution_count": 129,
      "outputs": [
        {
          "output_type": "execute_result",
          "data": {
            "text/plain": [
              "7"
            ]
          },
          "metadata": {},
          "execution_count": 129
        }
      ]
    },
    {
      "cell_type": "code",
      "metadata": {
        "id": "p_KUe4NAJhlv"
      },
      "source": [
        "node3 = Node(17)"
      ],
      "execution_count": 130,
      "outputs": []
    },
    {
      "cell_type": "code",
      "metadata": {
        "colab": {
          "base_uri": "https://localhost:8080/"
        },
        "id": "0bbVkKacJp5b",
        "outputId": "c76e1e7d-8d3b-4db3-cb3e-eb0fea7601fe"
      },
      "source": [
        "node3.get_data()"
      ],
      "execution_count": 131,
      "outputs": [
        {
          "output_type": "execute_result",
          "data": {
            "text/plain": [
              "17"
            ]
          },
          "metadata": {},
          "execution_count": 131
        }
      ]
    },
    {
      "cell_type": "code",
      "metadata": {
        "colab": {
          "base_uri": "https://localhost:8080/"
        },
        "id": "SOw24yQ9Jr88",
        "outputId": "a8ec07a5-21f6-4c86-e663-2854938a22f1"
      },
      "source": [
        "my_stack = Stack(node1)\n",
        "my_stack.push(node2)\n",
        "my_stack.push(node3)"
      ],
      "execution_count": 132,
      "outputs": [
        {
          "output_type": "execute_result",
          "data": {
            "text/plain": [
              "True"
            ]
          },
          "metadata": {},
          "execution_count": 132
        }
      ]
    },
    {
      "cell_type": "code",
      "metadata": {
        "colab": {
          "base_uri": "https://localhost:8080/"
        },
        "id": "0QI94PzZJxYz",
        "outputId": "6a521773-15a4-4d73-957a-bb617f5fe6c9"
      },
      "source": [
        "print(my_stack)"
      ],
      "execution_count": 133,
      "outputs": [
        {
          "output_type": "stream",
          "name": "stdout",
          "text": [
            "17->7->10->None\n"
          ]
        }
      ]
    },
    {
      "cell_type": "code",
      "metadata": {
        "colab": {
          "base_uri": "https://localhost:8080/"
        },
        "id": "SD7frggMJ2Sp",
        "outputId": "67db4edf-d9fa-4d5b-85bf-ac37d23a1f2d"
      },
      "source": [
        "my_stack.peek().get_data()"
      ],
      "execution_count": 134,
      "outputs": [
        {
          "output_type": "execute_result",
          "data": {
            "text/plain": [
              "17"
            ]
          },
          "metadata": {},
          "execution_count": 134
        }
      ]
    },
    {
      "cell_type": "code",
      "metadata": {
        "colab": {
          "base_uri": "https://localhost:8080/"
        },
        "id": "n341QGZZMRhX",
        "outputId": "72b2602f-dbf8-44e8-b5a0-b18162b9ad26"
      },
      "source": [
        "print(my_stack)"
      ],
      "execution_count": 135,
      "outputs": [
        {
          "output_type": "stream",
          "name": "stdout",
          "text": [
            "17->7->10->None\n"
          ]
        }
      ]
    },
    {
      "cell_type": "code",
      "metadata": {
        "id": "KrLV_lwRMWVV",
        "colab": {
          "base_uri": "https://localhost:8080/"
        },
        "outputId": "82fbdc17-82c2-4777-9b5e-bf1d2c503b3e"
      },
      "source": [
        "my_stack.get_min()"
      ],
      "execution_count": 136,
      "outputs": [
        {
          "output_type": "execute_result",
          "data": {
            "text/plain": [
              "7"
            ]
          },
          "metadata": {},
          "execution_count": 136
        }
      ]
    },
    {
      "cell_type": "code",
      "metadata": {
        "colab": {
          "base_uri": "https://localhost:8080/"
        },
        "id": "EnBV3592XZbb",
        "outputId": "e806e892-1780-40ac-ae20-0ee1392331ba"
      },
      "source": [
        "my_stack.push(Node(0))"
      ],
      "execution_count": 137,
      "outputs": [
        {
          "output_type": "execute_result",
          "data": {
            "text/plain": [
              "True"
            ]
          },
          "metadata": {},
          "execution_count": 137
        }
      ]
    },
    {
      "cell_type": "code",
      "metadata": {
        "colab": {
          "base_uri": "https://localhost:8080/"
        },
        "id": "2EhLTXtzaEYy",
        "outputId": "896cbc18-ae72-46e4-d697-4e03bb4a9fe8"
      },
      "source": [
        "my_stack.push(Node(25))"
      ],
      "execution_count": 138,
      "outputs": [
        {
          "output_type": "execute_result",
          "data": {
            "text/plain": [
              "True"
            ]
          },
          "metadata": {},
          "execution_count": 138
        }
      ]
    },
    {
      "cell_type": "code",
      "metadata": {
        "colab": {
          "base_uri": "https://localhost:8080/"
        },
        "id": "AGlALPnNaIkT",
        "outputId": "8007ac83-b051-4845-ba06-727d59b100bd"
      },
      "source": [
        "print(my_stack)"
      ],
      "execution_count": 139,
      "outputs": [
        {
          "output_type": "stream",
          "name": "stdout",
          "text": [
            "25->0->17->7->10->None\n"
          ]
        }
      ]
    },
    {
      "cell_type": "code",
      "metadata": {
        "colab": {
          "base_uri": "https://localhost:8080/"
        },
        "id": "aWd0_xRbaKDl",
        "outputId": "6c24adce-e131-41df-a60d-9c02a6a0e8f4"
      },
      "source": [
        "my_stack.get_min()"
      ],
      "execution_count": 140,
      "outputs": [
        {
          "output_type": "execute_result",
          "data": {
            "text/plain": [
              "0"
            ]
          },
          "metadata": {},
          "execution_count": 140
        }
      ]
    },
    {
      "cell_type": "code",
      "metadata": {
        "id": "k47vg_nkaPDa"
      },
      "source": [
        ""
      ],
      "execution_count": null,
      "outputs": []
    }
  ]
}