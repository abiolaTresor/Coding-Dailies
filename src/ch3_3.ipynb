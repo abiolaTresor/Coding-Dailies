{
  "nbformat": 4,
  "nbformat_minor": 0,
  "metadata": {
    "colab": {
      "name": "ch3_3.ipynb",
      "provenance": [],
      "collapsed_sections": [],
      "authorship_tag": "ABX9TyNjIzgj3t7EeYVvzGOU+rMY",
      "include_colab_link": true
    },
    "kernelspec": {
      "name": "python3",
      "display_name": "Python 3"
    },
    "language_info": {
      "name": "python"
    }
  },
  "cells": [
    {
      "cell_type": "markdown",
      "metadata": {
        "id": "view-in-github",
        "colab_type": "text"
      },
      "source": [
        "<a href=\"https://colab.research.google.com/github/abiolaTresor/Coding-Dailies/blob/master/src/ch3_3.ipynb\" target=\"_parent\"><img src=\"https://colab.research.google.com/assets/colab-badge.svg\" alt=\"Open In Colab\"/></a>"
      ]
    },
    {
      "cell_type": "code",
      "metadata": {
        "id": "agyFrcIGjK2s"
      },
      "source": [
        "class Node():\n",
        "  def __init__(self, data):\n",
        "    self.data__ = data\n",
        "    self.next__ = None\n",
        "  \n",
        "  def set_next(self,next):\n",
        "    self.next__ = next\n",
        "    return True\n",
        "\n",
        "  def set_data(self, data):\n",
        "    self.data__ = data\n",
        "    return True\n",
        "\n",
        "  def get_data(self):\n",
        "    return self.data__\n",
        "\n",
        "  def get_next(self):\n",
        "    return self.next__\n",
        "\n",
        "  def __eq__(self, other):\n",
        "    if isinstance(other, Node):\n",
        "      return self.data__ == other.get_data()\n",
        "    else:\n",
        "      return False\n",
        "\n"
      ],
      "execution_count": 2,
      "outputs": []
    },
    {
      "cell_type": "code",
      "metadata": {
        "id": "lUzKxFdRFlH4"
      },
      "source": [
        "#tests\n",
        "node1 = Node(5)\n",
        "node2 = Node(7)"
      ],
      "execution_count": 3,
      "outputs": []
    },
    {
      "cell_type": "code",
      "metadata": {
        "colab": {
          "base_uri": "https://localhost:8080/"
        },
        "id": "u92ax29sFyEZ",
        "outputId": "bfffc6df-2e57-487c-e40a-3523df0b4e2e"
      },
      "source": [
        "node1.get_data()"
      ],
      "execution_count": 4,
      "outputs": [
        {
          "output_type": "execute_result",
          "data": {
            "text/plain": [
              "5"
            ]
          },
          "metadata": {},
          "execution_count": 4
        }
      ]
    },
    {
      "cell_type": "code",
      "metadata": {
        "colab": {
          "base_uri": "https://localhost:8080/"
        },
        "id": "QJVeWjbcF1hU",
        "outputId": "4eb1690f-451a-453b-d8bb-5ebfbd6e00ae"
      },
      "source": [
        "node1.set_data(10)"
      ],
      "execution_count": 5,
      "outputs": [
        {
          "output_type": "execute_result",
          "data": {
            "text/plain": [
              "True"
            ]
          },
          "metadata": {},
          "execution_count": 5
        }
      ]
    },
    {
      "cell_type": "code",
      "metadata": {
        "colab": {
          "base_uri": "https://localhost:8080/"
        },
        "id": "r0m9PYeBF8YH",
        "outputId": "aed90bbd-334f-4307-9e28-2d510251dd51"
      },
      "source": [
        "node2.get_data()"
      ],
      "execution_count": 6,
      "outputs": [
        {
          "output_type": "execute_result",
          "data": {
            "text/plain": [
              "7"
            ]
          },
          "metadata": {},
          "execution_count": 6
        }
      ]
    },
    {
      "cell_type": "code",
      "metadata": {
        "colab": {
          "base_uri": "https://localhost:8080/"
        },
        "id": "u3EFZiD-F_6G",
        "outputId": "67901b7f-8b84-49da-b810-9e64a51a8e47"
      },
      "source": [
        "node1.get_data()"
      ],
      "execution_count": 7,
      "outputs": [
        {
          "output_type": "execute_result",
          "data": {
            "text/plain": [
              "10"
            ]
          },
          "metadata": {},
          "execution_count": 7
        }
      ]
    },
    {
      "cell_type": "code",
      "metadata": {
        "colab": {
          "base_uri": "https://localhost:8080/"
        },
        "id": "JbN5OS8dGCur",
        "outputId": "23eee7dd-1853-437a-8368-4d4339b8f2e3"
      },
      "source": [
        "node1 == node1"
      ],
      "execution_count": 8,
      "outputs": [
        {
          "output_type": "execute_result",
          "data": {
            "text/plain": [
              "True"
            ]
          },
          "metadata": {},
          "execution_count": 8
        }
      ]
    },
    {
      "cell_type": "code",
      "metadata": {
        "colab": {
          "base_uri": "https://localhost:8080/"
        },
        "id": "KXAGwL8HGFNx",
        "outputId": "bb4f8970-602c-4481-db61-efb9be702f83"
      },
      "source": [
        "node1 == 2"
      ],
      "execution_count": 9,
      "outputs": [
        {
          "output_type": "execute_result",
          "data": {
            "text/plain": [
              "False"
            ]
          },
          "metadata": {},
          "execution_count": 9
        }
      ]
    },
    {
      "cell_type": "code",
      "metadata": {
        "id": "TiwKbgmoGTSC"
      },
      "source": [
        "class Stack():\n",
        "  def __init__(self, top):\n",
        "    self.top__ = top\n",
        "\n",
        "  def is_empty(self):\n",
        "    top = self.top__\n",
        "    return top is None\n",
        "\n",
        "  def peek(self):\n",
        "    return self.top__\n",
        "\n",
        "  def push(self, item):\n",
        "    item.set_next(self.top__)\n",
        "    self.top__ = item\n",
        "    return True\n",
        "\n",
        "  def pop(self):\n",
        "    if self.is_empty():\n",
        "      return None\n",
        "    old_top = self.top__\n",
        "    self.top__ = self.top__.get_next()\n",
        "    return old_top\n",
        "\n",
        "  def __str__(self):\n",
        "    arr = []\n",
        "    node = self.top__\n",
        "    while not node is None:\n",
        "      arr.append(str(node.get_data()))\n",
        "      arr.append(\"->\")\n",
        "      node = node.get_next()\n",
        "    arr.append(\"None\")\n",
        "    return \"\".join(arr)\n",
        "\n",
        "  \n"
      ],
      "execution_count": 10,
      "outputs": []
    },
    {
      "cell_type": "code",
      "metadata": {
        "colab": {
          "base_uri": "https://localhost:8080/"
        },
        "id": "VdnR5wRiJbXt",
        "outputId": "c1aed128-9b24-4d75-b623-6d2f1fce75c1"
      },
      "source": [
        "node1.get_data()"
      ],
      "execution_count": 11,
      "outputs": [
        {
          "output_type": "execute_result",
          "data": {
            "text/plain": [
              "10"
            ]
          },
          "metadata": {},
          "execution_count": 11
        }
      ]
    },
    {
      "cell_type": "code",
      "metadata": {
        "colab": {
          "base_uri": "https://localhost:8080/"
        },
        "id": "E3w6ijr5JgDB",
        "outputId": "2a58ec14-ddae-4658-b279-8365df4f12e5"
      },
      "source": [
        "node2.get_data()"
      ],
      "execution_count": 12,
      "outputs": [
        {
          "output_type": "execute_result",
          "data": {
            "text/plain": [
              "7"
            ]
          },
          "metadata": {},
          "execution_count": 12
        }
      ]
    },
    {
      "cell_type": "code",
      "metadata": {
        "id": "p_KUe4NAJhlv"
      },
      "source": [
        "node3 = Node(17)"
      ],
      "execution_count": 13,
      "outputs": []
    },
    {
      "cell_type": "code",
      "metadata": {
        "colab": {
          "base_uri": "https://localhost:8080/"
        },
        "id": "0bbVkKacJp5b",
        "outputId": "5c9c6702-2bf8-432a-a642-0918e7ea12ca"
      },
      "source": [
        "node3.get_data()"
      ],
      "execution_count": 14,
      "outputs": [
        {
          "output_type": "execute_result",
          "data": {
            "text/plain": [
              "17"
            ]
          },
          "metadata": {},
          "execution_count": 14
        }
      ]
    },
    {
      "cell_type": "code",
      "metadata": {
        "colab": {
          "base_uri": "https://localhost:8080/"
        },
        "id": "SOw24yQ9Jr88",
        "outputId": "bef41eba-73f1-4bd8-e12b-4bb528ca0a97"
      },
      "source": [
        "my_stack = Stack(node1)\n",
        "my_stack.push(node2)\n",
        "my_stack.push(node3)"
      ],
      "execution_count": 15,
      "outputs": [
        {
          "output_type": "execute_result",
          "data": {
            "text/plain": [
              "True"
            ]
          },
          "metadata": {},
          "execution_count": 15
        }
      ]
    },
    {
      "cell_type": "code",
      "metadata": {
        "colab": {
          "base_uri": "https://localhost:8080/"
        },
        "id": "0QI94PzZJxYz",
        "outputId": "d641a0c7-543f-4753-8fb3-e2ead90e7a95"
      },
      "source": [
        "print(my_stack)"
      ],
      "execution_count": 16,
      "outputs": [
        {
          "output_type": "stream",
          "name": "stdout",
          "text": [
            "17->7->10->None\n"
          ]
        }
      ]
    },
    {
      "cell_type": "code",
      "metadata": {
        "colab": {
          "base_uri": "https://localhost:8080/"
        },
        "id": "SD7frggMJ2Sp",
        "outputId": "533313ad-baa7-4b56-fac3-090196fb8ff2"
      },
      "source": [
        "my_stack.peek().get_data()"
      ],
      "execution_count": 17,
      "outputs": [
        {
          "output_type": "execute_result",
          "data": {
            "text/plain": [
              "17"
            ]
          },
          "metadata": {},
          "execution_count": 17
        }
      ]
    },
    {
      "cell_type": "code",
      "metadata": {
        "colab": {
          "base_uri": "https://localhost:8080/"
        },
        "id": "n341QGZZMRhX",
        "outputId": "88356396-6254-4c3f-9125-9b692d0c3cae"
      },
      "source": [
        "print(my_stack)"
      ],
      "execution_count": 18,
      "outputs": [
        {
          "output_type": "stream",
          "name": "stdout",
          "text": [
            "17->7->10->None\n"
          ]
        }
      ]
    },
    {
      "cell_type": "code",
      "metadata": {
        "id": "KrLV_lwRMWVV"
      },
      "source": [
        "class SetOfStacks():\n",
        "  def __init__(self, threshold):\n",
        "    self.threshold__ = threshold\n",
        "    self.the_stacks__ = []\n",
        "    self.top_stack_size__ = 0\n",
        "  \n",
        "  def get_treshold(self):\n",
        "    return self.threshold__\n",
        "\n",
        "  def get_the_stacks(self):\n",
        "    return self.the_stacks__\n",
        "  \n",
        "  def get_top_stack_size(self):\n",
        "    return self.top_stack_size__\n",
        "\n",
        "  def push(self, node):\n",
        "    node.set_next(None)\n",
        "    if len(self.the_stacks__) == 0:\n",
        "      stack = Stack(node)\n",
        "      self.the_stacks__.append(stack)\n",
        "      self.top_stack_size__=1\n",
        "    else:\n",
        "      last_stack = self.the_stacks__[-1]\n",
        "      len_of_last_stack = self.top_stack_size__\n",
        "      if len_of_last_stack >= self.threshold__:\n",
        "        stack = Stack(node)\n",
        "        self.the_stacks__.append(stack)\n",
        "        self.top_stack_size__=1 \n",
        "      else:\n",
        "        last_stack.push(node)\n",
        "        self.top_stack_size__+=1\n",
        "    return True\n",
        "\n",
        "  def pop(self):\n",
        "    if len(self.the_stacks__) == 0:\n",
        "      return None\n",
        "    else:\n",
        "      last_stack = self.the_stacks__[-1]\n",
        "      pop_res = last_stack.pop()\n",
        "      self.top_stack_size__ -=1\n",
        "      if self.top_stack_size__ == 0:\n",
        "        self.the_stacks__.pop()\n",
        "        self.top_stack_size__ = self.threshold__\n",
        "    return pop_res"
      ],
      "execution_count": 94,
      "outputs": []
    },
    {
      "cell_type": "code",
      "metadata": {
        "id": "vhBFPdmbjTE9"
      },
      "source": [
        "my_set_of_stacks = SetOfStacks(3)"
      ],
      "execution_count": 95,
      "outputs": []
    },
    {
      "cell_type": "code",
      "metadata": {
        "colab": {
          "base_uri": "https://localhost:8080/"
        },
        "id": "6Jigrflvto9u",
        "outputId": "b5f1d9a0-bc4c-4626-80b7-1509023ce3c8"
      },
      "source": [
        "my_set_of_stacks.get_the_stacks()"
      ],
      "execution_count": 96,
      "outputs": [
        {
          "output_type": "execute_result",
          "data": {
            "text/plain": [
              "[]"
            ]
          },
          "metadata": {},
          "execution_count": 96
        }
      ]
    },
    {
      "cell_type": "code",
      "metadata": {
        "colab": {
          "base_uri": "https://localhost:8080/"
        },
        "id": "plDupiaSttdU",
        "outputId": "146b8104-9bb0-4ce9-b54d-71577d317fbd"
      },
      "source": [
        "my_set_of_stacks.get_top_stack_size()"
      ],
      "execution_count": 97,
      "outputs": [
        {
          "output_type": "execute_result",
          "data": {
            "text/plain": [
              "0"
            ]
          },
          "metadata": {},
          "execution_count": 97
        }
      ]
    },
    {
      "cell_type": "code",
      "metadata": {
        "colab": {
          "base_uri": "https://localhost:8080/"
        },
        "id": "f2VkkhpKtwpB",
        "outputId": "d6e1182b-164e-4c04-f5a5-7d5304c46fec"
      },
      "source": [
        "my_set_of_stacks.get_treshold()"
      ],
      "execution_count": 98,
      "outputs": [
        {
          "output_type": "execute_result",
          "data": {
            "text/plain": [
              "3"
            ]
          },
          "metadata": {},
          "execution_count": 98
        }
      ]
    },
    {
      "cell_type": "code",
      "metadata": {
        "colab": {
          "base_uri": "https://localhost:8080/"
        },
        "id": "jqADCh9-tzz9",
        "outputId": "8c1a321f-1438-43a1-d4fb-4949b71ec672"
      },
      "source": [
        "my_set_of_stacks.push(Node(1))"
      ],
      "execution_count": 99,
      "outputs": [
        {
          "output_type": "execute_result",
          "data": {
            "text/plain": [
              "True"
            ]
          },
          "metadata": {},
          "execution_count": 99
        }
      ]
    },
    {
      "cell_type": "code",
      "metadata": {
        "colab": {
          "base_uri": "https://localhost:8080/"
        },
        "id": "ql1WkEXMuXb-",
        "outputId": "2a2ff988-f269-4ad4-e329-d2d0d357fe94"
      },
      "source": [
        "my_set_of_stacks.get_top_stack_size()"
      ],
      "execution_count": 100,
      "outputs": [
        {
          "output_type": "execute_result",
          "data": {
            "text/plain": [
              "1"
            ]
          },
          "metadata": {},
          "execution_count": 100
        }
      ]
    },
    {
      "cell_type": "code",
      "metadata": {
        "colab": {
          "base_uri": "https://localhost:8080/"
        },
        "id": "PSZ8M7IfuSTv",
        "outputId": "2e2e6f77-031c-4eb3-dbee-ea8dd253cbba"
      },
      "source": [
        "my_set_of_stacks.push(Node(2))"
      ],
      "execution_count": 101,
      "outputs": [
        {
          "output_type": "execute_result",
          "data": {
            "text/plain": [
              "True"
            ]
          },
          "metadata": {},
          "execution_count": 101
        }
      ]
    },
    {
      "cell_type": "code",
      "metadata": {
        "colab": {
          "base_uri": "https://localhost:8080/"
        },
        "id": "a_hNjS4wucfE",
        "outputId": "1011976e-9ee6-426d-add1-ed9de3ae925f"
      },
      "source": [
        "my_set_of_stacks.get_top_stack_size()"
      ],
      "execution_count": 102,
      "outputs": [
        {
          "output_type": "execute_result",
          "data": {
            "text/plain": [
              "2"
            ]
          },
          "metadata": {},
          "execution_count": 102
        }
      ]
    },
    {
      "cell_type": "code",
      "metadata": {
        "colab": {
          "base_uri": "https://localhost:8080/"
        },
        "id": "uAmkHHoaukfE",
        "outputId": "0d1660d8-d33a-438c-97db-44bfec0ff1a2"
      },
      "source": [
        "my_set_of_stacks.push(Node(2))"
      ],
      "execution_count": 103,
      "outputs": [
        {
          "output_type": "execute_result",
          "data": {
            "text/plain": [
              "True"
            ]
          },
          "metadata": {},
          "execution_count": 103
        }
      ]
    },
    {
      "cell_type": "code",
      "metadata": {
        "colab": {
          "base_uri": "https://localhost:8080/"
        },
        "id": "y7mfrpuWumbb",
        "outputId": "2fdd3b40-ae20-4b85-bd41-22af0210000d"
      },
      "source": [
        "my_set_of_stacks.get_top_stack_size()"
      ],
      "execution_count": 104,
      "outputs": [
        {
          "output_type": "execute_result",
          "data": {
            "text/plain": [
              "3"
            ]
          },
          "metadata": {},
          "execution_count": 104
        }
      ]
    },
    {
      "cell_type": "code",
      "metadata": {
        "colab": {
          "base_uri": "https://localhost:8080/"
        },
        "id": "OLiYsC5BuoUd",
        "outputId": "f1b52c49-9c7d-47a8-bfd3-6d59e1e8bf7b"
      },
      "source": [
        "my_set_of_stacks.push(Node(4))"
      ],
      "execution_count": 105,
      "outputs": [
        {
          "output_type": "execute_result",
          "data": {
            "text/plain": [
              "True"
            ]
          },
          "metadata": {},
          "execution_count": 105
        }
      ]
    },
    {
      "cell_type": "code",
      "metadata": {
        "colab": {
          "base_uri": "https://localhost:8080/"
        },
        "id": "qKWv_72ausxq",
        "outputId": "e7b37349-b557-4c17-9904-e2f4e1505822"
      },
      "source": [
        "my_set_of_stacks.get_top_stack_size()"
      ],
      "execution_count": 106,
      "outputs": [
        {
          "output_type": "execute_result",
          "data": {
            "text/plain": [
              "1"
            ]
          },
          "metadata": {},
          "execution_count": 106
        }
      ]
    },
    {
      "cell_type": "code",
      "metadata": {
        "colab": {
          "base_uri": "https://localhost:8080/"
        },
        "id": "1MBfVvj7uuZG",
        "outputId": "01cff895-23df-4c24-cee7-600656567fcb"
      },
      "source": [
        "my_set_of_stacks.get_the_stacks()"
      ],
      "execution_count": 107,
      "outputs": [
        {
          "output_type": "execute_result",
          "data": {
            "text/plain": [
              "[<__main__.Stack at 0x7f11d29b07d0>, <__main__.Stack at 0x7f11d2a85e50>]"
            ]
          },
          "metadata": {},
          "execution_count": 107
        }
      ]
    },
    {
      "cell_type": "code",
      "metadata": {
        "colab": {
          "base_uri": "https://localhost:8080/"
        },
        "id": "4BJK_Z2iux_U",
        "outputId": "f58182c7-525c-4c9f-d0ea-080297075caa"
      },
      "source": [
        "my_set_of_stacks.pop()"
      ],
      "execution_count": 108,
      "outputs": [
        {
          "output_type": "execute_result",
          "data": {
            "text/plain": [
              "<__main__.Node at 0x7f11d2a85a10>"
            ]
          },
          "metadata": {},
          "execution_count": 108
        }
      ]
    },
    {
      "cell_type": "code",
      "metadata": {
        "colab": {
          "base_uri": "https://localhost:8080/"
        },
        "id": "wqNfCq8fu5KD",
        "outputId": "3bb8a554-2c50-4a3f-9c75-ef4256740dca"
      },
      "source": [
        "my_set_of_stacks.get_top_stack_size()"
      ],
      "execution_count": 109,
      "outputs": [
        {
          "output_type": "execute_result",
          "data": {
            "text/plain": [
              "3"
            ]
          },
          "metadata": {},
          "execution_count": 109
        }
      ]
    },
    {
      "cell_type": "code",
      "metadata": {
        "colab": {
          "base_uri": "https://localhost:8080/"
        },
        "id": "dCUp3uOPvmkX",
        "outputId": "0203e083-329f-4ba6-a62a-65c27e773edf"
      },
      "source": [
        "my_set_of_stacks.get_the_stacks()"
      ],
      "execution_count": 110,
      "outputs": [
        {
          "output_type": "execute_result",
          "data": {
            "text/plain": [
              "[<__main__.Stack at 0x7f11d29b07d0>]"
            ]
          },
          "metadata": {},
          "execution_count": 110
        }
      ]
    },
    {
      "cell_type": "code",
      "metadata": {
        "id": "qnm35RQ_vzXU"
      },
      "source": [
        ""
      ],
      "execution_count": null,
      "outputs": []
    }
  ]
}