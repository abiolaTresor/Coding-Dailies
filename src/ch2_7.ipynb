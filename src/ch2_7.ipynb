{
  "nbformat": 4,
  "nbformat_minor": 0,
  "metadata": {
    "colab": {
      "name": "ch2_6.ipynb",
      "provenance": [],
      "collapsed_sections": [],
      "authorship_tag": "ABX9TyO9Qf+6/LiLH28kq5d9EAJw",
      "include_colab_link": true
    },
    "kernelspec": {
      "name": "python3",
      "display_name": "Python 3"
    },
    "language_info": {
      "name": "python"
    }
  },
  "cells": [
    {
      "cell_type": "markdown",
      "metadata": {
        "id": "view-in-github",
        "colab_type": "text"
      },
      "source": [
        "<a href=\"https://colab.research.google.com/github/abiolaTresor/Coding-Dailies/blob/master/src/ch2_7.ipynb\" target=\"_parent\"><img src=\"https://colab.research.google.com/assets/colab-badge.svg\" alt=\"Open In Colab\"/></a>"
      ]
    },
    {
      "cell_type": "code",
      "metadata": {
        "id": "Muc3EHuB04YI"
      },
      "source": [
        "class Node():\n",
        "  def __init__(self, value):\n",
        "    self.data__  = value\n",
        "    self.next__ = None\n",
        "  def get_data(self):\n",
        "    return self.data__\n",
        "  def get_next(self):\n",
        "    return self.next__\n",
        "  def set_data(self, value):\n",
        "    self.data__ = value\n",
        "  def set_next(self,node):\n",
        "    self.next__ = node"
      ],
      "execution_count": 1,
      "outputs": []
    },
    {
      "cell_type": "code",
      "metadata": {
        "id": "KGITArNo1ZsU"
      },
      "source": [
        "class LinkedList():\n",
        "  def __init__(self, node):\n",
        "    self.head__ = node\n",
        "  \n",
        "  def remove_dups(self):\n",
        "    current_node = self.head__\n",
        "    current_data = current_node.get_data()\n",
        "    while current_node.get_next() != None:\n",
        "      next_node = current_node.get_next()\n",
        "      if next_node.get_data() == current_data:\n",
        "        current_node.set_next(next_node.get_next())\n",
        "        #current_node.set_data(next_node.get_data())\n",
        "      else:\n",
        "        current_node = next_node\n",
        "        current_data =current_node.get_data()\n",
        "\n",
        "  def remove_repetitions(self):\n",
        "    reference_node = self.head__\n",
        "    while reference_node.get_next()!= None and reference_node.get_next() != None:\n",
        "      reference_data = reference_node.get_data()\n",
        "      check_node = reference_node\n",
        "      while check_node.get_next() != None:\n",
        "        check_data =  check_node.get_next().get_data()\n",
        "        if check_data == reference_data:\n",
        "          check_node.set_next(check_node.get_next().get_next())\n",
        "        else:\n",
        "          check_node = check_node.get_next()\n",
        "      if reference_node.get_next() != None:\n",
        "        reference_node = reference_node.get_next()\n",
        "\n",
        "  def kth_to_last(self, k):\n",
        "    data = []\n",
        "    current_node = self.head__\n",
        "    while current_node != None:\n",
        "      data.append(current_node.get_data())\n",
        "      current_node = current_node.get_next()\n",
        "    return data[len(data)-k]\n",
        "\n",
        "  def kth_to_head(self, k):\n",
        "    data = []\n",
        "    current_node = self.head__\n",
        "    while current_node != None:\n",
        "      data.append(current_node.get_data())\n",
        "      current_node = current_node.get_next()\n",
        "    return data[k-1]\n",
        "\n",
        "  def kth_to_last_node(self, k):\n",
        "    data = []\n",
        "    current_node = self.head__\n",
        "    while current_node != None:\n",
        "      data.append(current_node)\n",
        "      current_node = current_node.get_next()\n",
        "    return data[len(data)-k]\n",
        "\n",
        "  def kth_to_head_node(self, k):\n",
        "    data = []\n",
        "    current_node = self.head__\n",
        "    while current_node != None:\n",
        "      data.append(current_node)\n",
        "      current_node = current_node.get_next()\n",
        "    return data[k-1]\n",
        "  \n",
        "  def delete_middle(self, to_delete):\n",
        "    precedent = self.head__\n",
        "    if precedent.get_next() == None or precedent.get_next() == to_delete.get_next():\n",
        "      return\n",
        "    current = precedent.get_next()\n",
        "    while current.get_next() != None:\n",
        "      if current.get_next() == to_delete.get_next():\n",
        "        precedent.set_next(current.get_next())\n",
        "        return\n",
        "      precedent  = current\n",
        "      current = current.get_next()\n",
        "    return\n",
        "      \n",
        "  def print_it(self):\n",
        "    current_node = self.head__\n",
        "    current_data = current_node.get_data()\n",
        "    i = 1\n",
        "    print(f\"{i}st element: {current_data}\")\n",
        "    while current_node.get_next() != None:\n",
        "      i+=1\n",
        "      current_node = current_node.get_next()\n",
        "      current_data = current_node.get_data()\n",
        "      print(f\"{i}th element: {current_data}\")\n",
        "  \n",
        "  def add_to_tail(self,node):\n",
        "    current_node = self.head__\n",
        "    while current_node.get_next() != None:\n",
        "      current_node = current_node.get_next()\n",
        "    current_node.set_next(node)\n",
        "  \n",
        "  def get_head(self):\n",
        "    return self.head__\n",
        "\n",
        "  def get_tail(self):\n",
        "    current_node = self.head__\n",
        "    while current_node.get_next()!= None:\n",
        "      current_node = current_node.get_next()\n",
        "    return current_node\n"
      ],
      "execution_count": 2,
      "outputs": []
    },
    {
      "cell_type": "code",
      "metadata": {
        "id": "3eKbMmQL1bYc"
      },
      "source": [
        "element1 = Node(1)\n",
        "element2 = Node(2)\n",
        "element3 = Node(3)\n",
        "element4 = Node(3)\n",
        "element5 = Node(4)\n",
        "element6 = Node(7)\n",
        "element7 = Node(8)\n",
        "element8 = Node(8)"
      ],
      "execution_count": 3,
      "outputs": []
    },
    {
      "cell_type": "code",
      "metadata": {
        "id": "rTuMR-g_1lKT"
      },
      "source": [
        "my_linked_list = LinkedList(element1)"
      ],
      "execution_count": 4,
      "outputs": []
    },
    {
      "cell_type": "code",
      "metadata": {
        "colab": {
          "base_uri": "https://localhost:8080/"
        },
        "id": "DmzhTGq17mnG",
        "outputId": "fe61c9b5-c7d8-4c19-f638-666c8d91d6af"
      },
      "source": [
        "my_linked_list.print_it()"
      ],
      "execution_count": 5,
      "outputs": [
        {
          "output_type": "stream",
          "name": "stdout",
          "text": [
            "1st element: 1\n"
          ]
        }
      ]
    },
    {
      "cell_type": "code",
      "metadata": {
        "id": "QopAR0Frz5hr"
      },
      "source": [
        "my_linked_list.add_to_tail(element2)\n",
        "my_linked_list.add_to_tail(element3)\n",
        "my_linked_list.add_to_tail(element4)\n",
        "my_linked_list.add_to_tail(element5)\n",
        "my_linked_list.add_to_tail(element6)\n",
        "my_linked_list.add_to_tail(element7)\n",
        "my_linked_list.add_to_tail(element8)"
      ],
      "execution_count": 6,
      "outputs": []
    },
    {
      "cell_type": "code",
      "metadata": {
        "colab": {
          "base_uri": "https://localhost:8080/"
        },
        "id": "n3WsIapi05iZ",
        "outputId": "0929ec64-8a29-4bec-9e5c-d7c43ef547cb"
      },
      "source": [
        "my_linked_list.print_it()"
      ],
      "execution_count": 7,
      "outputs": [
        {
          "output_type": "stream",
          "name": "stdout",
          "text": [
            "1st element: 1\n",
            "2th element: 2\n",
            "3th element: 3\n",
            "4th element: 3\n",
            "5th element: 4\n",
            "6th element: 7\n",
            "7th element: 8\n",
            "8th element: 8\n"
          ]
        }
      ]
    },
    {
      "cell_type": "markdown",
      "metadata": {
        "id": "kmG-LYTXG9mr"
      },
      "source": [
        "## ch2_5\n"
      ]
    },
    {
      "cell_type": "code",
      "metadata": {
        "id": "Zws39vkaG8jy"
      },
      "source": [
        "def iterative_sum(linked_list_1, linked_list_2):\n",
        "  reserve = 0\n",
        "  p1 = linked_list_1.get_head()\n",
        "  p2 = linked_list_2.get_head()\n",
        "  nodes = []\n",
        "  while p1 != None or p2 != None:\n",
        "    if p1 == None:\n",
        "      val_1 = 0\n",
        "    else:\n",
        "      val_1 = p1.get_data()\n",
        "    if p2 == None:\n",
        "      val_2 = 0\n",
        "    else:\n",
        "      val_2 = p2.get_data()\n",
        "    digits_sum = val_1 + val_2 + reserve\n",
        "    if len(str(digits_sum))==1:\n",
        "      reserve = 0\n",
        "      unity = digits_sum\n",
        "    else:\n",
        "      reserve = int(str(digits_sum)[0])\n",
        "      unity = int(str(digits_sum)[1])\n",
        "    node = Node(unity)\n",
        "    nodes.append(node)\n",
        "    if p1 != None:\n",
        "      p1 = p1.get_next()\n",
        "    if p2 != None:\n",
        "      p2 = p2.get_next()\n",
        "  prev = None\n",
        "  for node in nodes:\n",
        "    if prev == None:\n",
        "      prev = node\n",
        "    else:\n",
        "      prev.set_next(node)\n",
        "      prev = node\n",
        "  prev.set_next(Node(reserve))\n",
        "  head = nodes[0]\n",
        "  return LinkedList(head)\n",
        "    \n"
      ],
      "execution_count": 8,
      "outputs": []
    },
    {
      "cell_type": "code",
      "metadata": {
        "id": "m5SRtGUwJJHd"
      },
      "source": [
        "sum_result = iterative_sum(my_linked_list, my_linked_list)"
      ],
      "execution_count": 9,
      "outputs": []
    },
    {
      "cell_type": "code",
      "metadata": {
        "colab": {
          "base_uri": "https://localhost:8080/"
        },
        "id": "N_uqJLXJJKGn",
        "outputId": "6ca03d5e-4539-4432-fbf3-2b35565b429f"
      },
      "source": [
        "sum_result.print_it()"
      ],
      "execution_count": 10,
      "outputs": [
        {
          "output_type": "stream",
          "name": "stdout",
          "text": [
            "1st element: 2\n",
            "2th element: 4\n",
            "3th element: 6\n",
            "4th element: 6\n",
            "5th element: 8\n",
            "6th element: 4\n",
            "7th element: 7\n",
            "8th element: 7\n",
            "9th element: 1\n"
          ]
        }
      ]
    },
    {
      "cell_type": "code",
      "metadata": {
        "id": "wPf6sqhuMYET"
      },
      "source": [
        "def pre_recursive_sum(node1, node2, reserve):\n",
        "  if node1 == None and node2 == None:\n",
        "    return None\n",
        "  if node1 != None or node2 != None:\n",
        "    if node1 == None:\n",
        "      val_1 = 0\n",
        "    else:\n",
        "      val_1 = node1.get_data()\n",
        "    if node2 == None:\n",
        "      val_2 = 0\n",
        "    else:\n",
        "      val_2 = node2.get_data()\n",
        "    digits_sum = val_1 + val_2 + reserve\n",
        "    if len(str(digits_sum))==1:\n",
        "      new_reserve = 0\n",
        "      unity = digits_sum\n",
        "    else:\n",
        "      new_reserve = int(str(digits_sum)[0])\n",
        "      unity = int(str(digits_sum)[1])\n",
        "    node = Node(unity)\n",
        "    if node1 != None:\n",
        "      new_node1 = node1.get_next()\n",
        "    else:\n",
        "      new_node1 = node1\n",
        "    if node2 != None:\n",
        "      new_node2 = node2.get_next()\n",
        "    else:\n",
        "      new_node2 = node2.get_next()\n",
        "    node.set_next(pre_recursive_sum(new_node1, new_node2, reserve))\n",
        "\n",
        "    return node\n",
        "  else:\n",
        "    return None\n"
      ],
      "execution_count": 11,
      "outputs": []
    },
    {
      "cell_type": "code",
      "metadata": {
        "id": "vjF7noFiYQwJ"
      },
      "source": [
        "def recursive_sum(linked_list1, linked_list2):\n",
        "  return(linked_list1.get_head(), linked_list2.get_head(), 0)"
      ],
      "execution_count": 12,
      "outputs": []
    },
    {
      "cell_type": "code",
      "metadata": {
        "id": "VCXPF8F-YrQu"
      },
      "source": [
        "iterative_sum_result = iterative_sum(my_linked_list, my_linked_list)"
      ],
      "execution_count": 13,
      "outputs": []
    },
    {
      "cell_type": "code",
      "metadata": {
        "colab": {
          "base_uri": "https://localhost:8080/"
        },
        "id": "lh15rHojZRV_",
        "outputId": "7fcbb851-6486-4ff6-cfa9-2f2fa9f4873a"
      },
      "source": [
        "iterative_sum_result.print_it()"
      ],
      "execution_count": 14,
      "outputs": [
        {
          "output_type": "stream",
          "name": "stdout",
          "text": [
            "1st element: 2\n",
            "2th element: 4\n",
            "3th element: 6\n",
            "4th element: 6\n",
            "5th element: 8\n",
            "6th element: 4\n",
            "7th element: 7\n",
            "8th element: 7\n",
            "9th element: 1\n"
          ]
        }
      ]
    },
    {
      "cell_type": "markdown",
      "metadata": {
        "id": "e3BYyV4CUqvu"
      },
      "source": [
        "## ch2_6"
      ]
    },
    {
      "cell_type": "markdown",
      "metadata": {
        "id": "B72IPI3DWLb1"
      },
      "source": [
        "The method `get_tail` has been designed for this question. As well as `is_palindrome`"
      ]
    },
    {
      "cell_type": "code",
      "metadata": {
        "id": "yWEo0tPVUqDi"
      },
      "source": [
        "def pre_is_palindrome(linked_list, bound_to_head, bound_to_tail):\n",
        "  kth_node_to_head = linked_list.kth_to_head_node(bound_to_head)\n",
        "  kth_node_to_tail = linked_list.kth_to_last_node(bound_to_tail)\n",
        "  if kth_node_to_head == kth_node_to_tail:\n",
        "    return True\n",
        "  if kth_node_to_head.get_next() == kth_node_to_tail:\n",
        "    return kth_node_to_head.get_data() == kth_node_to_tail.get_data()\n",
        "  return kth_node_to_head.get_data() == kth_node_to_tail.get_data() and  pre_is_palindrome(linked_list, bound_to_head+1, bound_to_tail+1)"
      ],
      "execution_count": 15,
      "outputs": []
    },
    {
      "cell_type": "code",
      "metadata": {
        "id": "m9lasTe2cptN"
      },
      "source": [
        "def is_palindrome(linked_list):\n",
        "  return pre_is_palindrome(linked_list, 1, 1)"
      ],
      "execution_count": 16,
      "outputs": []
    },
    {
      "cell_type": "code",
      "metadata": {
        "id": "KmKSisYXZUcn",
        "colab": {
          "base_uri": "https://localhost:8080/"
        },
        "outputId": "771dbd7d-361f-4e8d-debb-18fe9a6f356b"
      },
      "source": [
        "pre_is_palindrome(iterative_sum_result, 2, 8)"
      ],
      "execution_count": 17,
      "outputs": [
        {
          "output_type": "execute_result",
          "data": {
            "text/plain": [
              "True"
            ]
          },
          "metadata": {},
          "execution_count": 17
        }
      ]
    },
    {
      "cell_type": "code",
      "metadata": {
        "colab": {
          "base_uri": "https://localhost:8080/"
        },
        "id": "sATcXhgrc4RU",
        "outputId": "c42e2f11-ddab-4c7a-9a8c-7fd5fd2f1495"
      },
      "source": [
        "is_palindrome(iterative_sum_result)"
      ],
      "execution_count": 18,
      "outputs": [
        {
          "output_type": "execute_result",
          "data": {
            "text/plain": [
              "False"
            ]
          },
          "metadata": {},
          "execution_count": 18
        }
      ]
    },
    {
      "cell_type": "code",
      "metadata": {
        "id": "Dq0_TjlcdV_S"
      },
      "source": [
        "node_for_pal1 = Node(1)\n",
        "node_for_pal2 = Node(2)\n",
        "node_for_pal3 = Node(3)\n",
        "node_for_pal4 = Node(3)\n",
        "node_for_pal5 = Node(2)\n",
        "node_for_pal6 = Node(1)"
      ],
      "execution_count": 19,
      "outputs": []
    },
    {
      "cell_type": "code",
      "metadata": {
        "id": "PfRXcAFbeKjm"
      },
      "source": [
        "pal = LinkedList(node_for_pal1)\n",
        "pal.add_to_tail(node_for_pal2)\n",
        "pal.add_to_tail(node_for_pal3)\n",
        "pal.add_to_tail(node_for_pal4)\n",
        "pal.add_to_tail(node_for_pal5)\n",
        "pal.add_to_tail(node_for_pal6)"
      ],
      "execution_count": 20,
      "outputs": []
    },
    {
      "cell_type": "code",
      "metadata": {
        "colab": {
          "base_uri": "https://localhost:8080/"
        },
        "id": "eA3deGzIec-g",
        "outputId": "1ac7c6ec-b296-46c1-8de2-804eb461c591"
      },
      "source": [
        "pal.print_it()"
      ],
      "execution_count": 21,
      "outputs": [
        {
          "output_type": "stream",
          "name": "stdout",
          "text": [
            "1st element: 1\n",
            "2th element: 2\n",
            "3th element: 3\n",
            "4th element: 3\n",
            "5th element: 2\n",
            "6th element: 1\n"
          ]
        }
      ]
    },
    {
      "cell_type": "code",
      "metadata": {
        "colab": {
          "base_uri": "https://localhost:8080/"
        },
        "id": "OUSAwZoyerat",
        "outputId": "613a7a83-47d9-4175-a253-4435cc641e60"
      },
      "source": [
        "is_palindrome(pal)"
      ],
      "execution_count": 22,
      "outputs": [
        {
          "output_type": "execute_result",
          "data": {
            "text/plain": [
              "True"
            ]
          },
          "metadata": {},
          "execution_count": 22
        }
      ]
    },
    {
      "cell_type": "markdown",
      "metadata": {
        "id": "L9jSPrdwIdrs"
      },
      "source": [
        "## The following has been implemented after I've read the correction"
      ]
    },
    {
      "cell_type": "code",
      "metadata": {
        "id": "-wy5emYBexi2"
      },
      "source": [
        "def pre_new_is_palindrome(left_data, linked_list, length, depth):\n",
        "  result_object = {\n",
        "      \n",
        "  }\n",
        "  if length == 0:\n",
        "    result_object[\"pal_so_far\"] = left_data == linked_list.get_head().get_data()\n",
        "    result_object[\"next_left_data_match\"] = linked_list.kth_to_head(2)\n",
        "    return result_object\n",
        "  print(depth, length)\n",
        "  next_result = pre_new_is_palindrome(linked_list.get_head().get_data(), LinkedList(linked_list.get_head().get_next()), length-2, depth+1)\n",
        "  my_bool = next_result[\"pal_so_far\"] and (left_data == next_result[\"next_left_data_match\"])\n",
        "  if depth > 0:\n",
        "    my_next_left_data_match = linked_list.kth_to_head(length+2)\n",
        "  else:\n",
        "    my_next_left_data_match = None\n",
        "\n",
        "  result_object[\"pal_so_far\"] = my_bool\n",
        "  result_object['next_left_data_match'] = my_next_left_data_match\n",
        "  return result_object\n"
      ],
      "execution_count": 23,
      "outputs": []
    },
    {
      "cell_type": "code",
      "metadata": {
        "id": "TE5lJ8gvQ9nX"
      },
      "source": [
        "def size(linked_list):\n",
        "  counter = 1\n",
        "  node = linked_list.get_head()\n",
        "  while node.get_next() != None:\n",
        "    counter+=1\n",
        "    node  = node.get_next()\n",
        "  return counter"
      ],
      "execution_count": 24,
      "outputs": []
    },
    {
      "cell_type": "code",
      "metadata": {
        "id": "eyDHt38MQrXq"
      },
      "source": [
        "def new_is_palindrome(linked_list):\n",
        "  length = size(linked_list)\n",
        "  initial_left_data = linked_list.get_head().get_data()\n",
        "  initial_linked_list = LinkedList(linked_list.get_head().get_next())\n",
        "  initial_length = length-2\n",
        "  rec_result =pre_new_is_palindrome(initial_left_data, initial_linked_list, initial_length, 0)\n",
        "  return rec_result[\"pal_so_far\"]"
      ],
      "execution_count": 25,
      "outputs": []
    },
    {
      "cell_type": "code",
      "metadata": {
        "colab": {
          "base_uri": "https://localhost:8080/"
        },
        "id": "vhJKn-TwSXsf",
        "outputId": "7ba3416e-4ca9-44bd-ef2d-88edcae8f0a7"
      },
      "source": [
        "new_is_palindrome(pal)"
      ],
      "execution_count": 26,
      "outputs": [
        {
          "output_type": "stream",
          "name": "stdout",
          "text": [
            "0 4\n",
            "1 2\n"
          ]
        },
        {
          "output_type": "execute_result",
          "data": {
            "text/plain": [
              "True"
            ]
          },
          "metadata": {},
          "execution_count": 26
        }
      ]
    },
    {
      "cell_type": "code",
      "metadata": {
        "colab": {
          "base_uri": "https://localhost:8080/"
        },
        "id": "mVgsFaSbT1Hr",
        "outputId": "4275d859-e97e-4dbb-9d20-4faa622ee2cc"
      },
      "source": [
        "new_is_palindrome(LinkedList(pal.get_head().get_next().get_next()))"
      ],
      "execution_count": 27,
      "outputs": [
        {
          "output_type": "stream",
          "name": "stdout",
          "text": [
            "0 2\n"
          ]
        },
        {
          "output_type": "execute_result",
          "data": {
            "text/plain": [
              "False"
            ]
          },
          "metadata": {},
          "execution_count": 27
        }
      ]
    },
    {
      "cell_type": "markdown",
      "metadata": {
        "id": "9Dij714BQcpV"
      },
      "source": [
        "## ch2_7"
      ]
    },
    {
      "cell_type": "code",
      "metadata": {
        "id": "0JjwSniPP2eT"
      },
      "source": [
        "def intersect(linked_list_1, linked_list_2):\n",
        "  map_of_ids = {}\n",
        "\n",
        "  #iterating through first linked list\n",
        "  pointer = linked_list_1.get_head()\n",
        "  while pointer is not None:\n",
        "    id_ = id(pointer)\n",
        "    map_of_ids[str(id_)] = 1\n",
        "    pointer = pointer.get_next()\n",
        "  len_ = len(map_of_ids)\n",
        "\n",
        "  #iterating through 2nd linked list\n",
        "  pointer = linked_list_2.get_head()\n",
        "  while pointer is not None:\n",
        "    id_ = id(pointer)\n",
        "    map_of_ids[str(id_)] = 1\n",
        "    if len(map_of_ids) == len_:\n",
        "      return pointer\n",
        "    else:\n",
        "      len_ = len(map_of_ids)\n",
        "      pointer = pointer.get_next()\n",
        "  return None\n",
        "\n",
        "\n"
      ],
      "execution_count": 28,
      "outputs": []
    },
    {
      "cell_type": "code",
      "metadata": {
        "id": "WlU5zUH4UcrP"
      },
      "source": [
        "res = intersect(pal, pal)"
      ],
      "execution_count": 29,
      "outputs": []
    },
    {
      "cell_type": "code",
      "metadata": {
        "id": "uPDf1-_4cBil",
        "outputId": "2ee7e2d1-b7cc-4683-a138-5d52efb5323b",
        "colab": {
          "base_uri": "https://localhost:8080/"
        }
      },
      "source": [
        "pal.print_it()"
      ],
      "execution_count": 30,
      "outputs": [
        {
          "output_type": "stream",
          "name": "stdout",
          "text": [
            "1st element: 1\n",
            "2th element: 2\n",
            "3th element: 3\n",
            "4th element: 3\n",
            "5th element: 2\n",
            "6th element: 1\n"
          ]
        }
      ]
    },
    {
      "cell_type": "code",
      "metadata": {
        "id": "ad6ppKQPUh7q",
        "outputId": "48aa98e5-3bde-42cc-b67a-7ea27b20dc6d",
        "colab": {
          "base_uri": "https://localhost:8080/"
        }
      },
      "source": [
        "res.get_data()"
      ],
      "execution_count": 31,
      "outputs": [
        {
          "output_type": "execute_result",
          "data": {
            "text/plain": [
              "1"
            ]
          },
          "metadata": {},
          "execution_count": 31
        }
      ]
    },
    {
      "cell_type": "code",
      "metadata": {
        "id": "6-V8cxhtUm-y"
      },
      "source": [
        "node_for_ll1 = Node(1)\n",
        "node_for_ll2 = Node(2)\n",
        "node_for_ll3 = Node(3)\n",
        "node_for_ll4 = Node(3)\n",
        "node_for_ll5 = node_for_pal5\n",
        "node_for_ll6 = Node(1)"
      ],
      "execution_count": 32,
      "outputs": []
    },
    {
      "cell_type": "code",
      "metadata": {
        "id": "dtOz7_Afchz2"
      },
      "source": [
        "ll = LinkedList(node_for_ll1)\n",
        "ll.add_to_tail(node_for_ll2)\n",
        "ll.add_to_tail(node_for_ll3)\n",
        "ll.add_to_tail(node_for_ll4)\n",
        "ll.add_to_tail(node_for_ll5)\n",
        "ll.add_to_tail(node_for_ll6)"
      ],
      "execution_count": 33,
      "outputs": []
    },
    {
      "cell_type": "code",
      "metadata": {
        "id": "tuBvsDW0dYJS"
      },
      "source": [
        "res = intersect(pal, ll)"
      ],
      "execution_count": 34,
      "outputs": []
    },
    {
      "cell_type": "code",
      "metadata": {
        "id": "XVhHzSB1dczS",
        "outputId": "8700ad48-e4ee-4b7c-9f0a-1d53c77e62a1",
        "colab": {
          "base_uri": "https://localhost:8080/"
        }
      },
      "source": [
        "res.get_data()"
      ],
      "execution_count": 35,
      "outputs": [
        {
          "output_type": "execute_result",
          "data": {
            "text/plain": [
              "2"
            ]
          },
          "metadata": {},
          "execution_count": 35
        }
      ]
    },
    {
      "cell_type": "code",
      "metadata": {
        "id": "e63c6h7eddl_"
      },
      "source": [
        ""
      ],
      "execution_count": 35,
      "outputs": []
    }
  ]
}