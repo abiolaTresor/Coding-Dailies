{
 "cells": [
  {
   "cell_type": "markdown",
   "metadata": {},
   "source": [
    "I decided to solve this exercice using recurrence. Given a sequence #%+*? where #,%,+,*,? are integers, the number of decodings can be computed knowing the number of decodings of %+*? and +*? (if #% is decodable). Actually, we just have to sum up the two number of possible decodings."
   ]
  },
  {
   "cell_type": "code",
   "execution_count": 10,
   "metadata": {},
   "outputs": [],
   "source": [
    "#It will count the number of 1-character or 2-characters  encoded message\n",
    "def count_when_1_or_2(encoded):\n",
    "    encoded_ = str(encoded)\n",
    "    if len(encoded_) == 1:\n",
    "        return 1\n",
    "    else:\n",
    "        if encoded > 26:\n",
    "            return 1\n",
    "        else:\n",
    "            return 2"
   ]
  },
  {
   "cell_type": "code",
   "execution_count": 17,
   "metadata": {},
   "outputs": [],
   "source": [
    "def count_decoded(encoded):\n",
    "    encoded_ = str(encoded)\n",
    "    if len(encoded_) in [1,2]:\n",
    "        return count_when_1_or_2(encoded)\n",
    "    elif int(encoded_[:2]) <=26:\n",
    "        return count_decoded(int(encoded_[1:])) + count_decoded(int(encoded_[2:]))\n",
    "    else:\n",
    "        return count_decoded(int(encoded_[1:]))"
   ]
  },
  {
   "cell_type": "code",
   "execution_count": 12,
   "metadata": {},
   "outputs": [],
   "source": [
    "assert count_decoded(111) == 3"
   ]
  },
  {
   "cell_type": "code",
   "execution_count": 18,
   "metadata": {},
   "outputs": [],
   "source": [
    "assert count_decoded(2314) == 4"
   ]
  },
  {
   "cell_type": "code",
   "execution_count": 19,
   "metadata": {},
   "outputs": [],
   "source": [
    "assert count_decoded(1226) == 5"
   ]
  }
 ],
 "metadata": {
  "kernelspec": {
   "display_name": "Python 3",
   "language": "python",
   "name": "python3"
  },
  "language_info": {
   "codemirror_mode": {
    "name": "ipython",
    "version": 3
   },
   "file_extension": ".py",
   "mimetype": "text/x-python",
   "name": "python",
   "nbconvert_exporter": "python",
   "pygments_lexer": "ipython3",
   "version": "3.8.3"
  }
 },
 "nbformat": 4,
 "nbformat_minor": 4
}
