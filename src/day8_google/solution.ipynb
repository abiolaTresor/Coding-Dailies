{
 "cells": [
  {
   "cell_type": "markdown",
   "metadata": {},
   "source": [
    "I first write a function that help compute if  a tree is unival\n",
    "Then For a given tree, I check if it's a tree and I then count the number of unival subtree on its left/ ist right"
   ]
  },
  {
   "cell_type": "code",
   "execution_count": 1,
   "metadata": {},
   "outputs": [],
   "source": [
    "class Node:\n",
    "    def __init__(self, val, left=None, right=None):\n",
    "        self.val = val\n",
    "        self.left = left\n",
    "        self.right = right"
   ]
  },
  {
   "cell_type": "code",
   "execution_count": 4,
   "metadata": {},
   "outputs": [],
   "source": [
    "def is_unival_rec(tree, val):\n",
    "    if tree== None:\n",
    "        return True\n",
    "    else:\n",
    "        return tree.val == val and is_unival_rec(tree.left, val) and is_unival_rec(tree.right, val)"
   ]
  },
  {
   "cell_type": "code",
   "execution_count": 8,
   "metadata": {},
   "outputs": [
    {
     "name": "stdout",
     "output_type": "stream",
     "text": [
      "True\n"
     ]
    }
   ],
   "source": [
    "node = Node(1,Node(1,None,None),Node(1,None,None))\n",
    "print(is_unival_rec(node,1))"
   ]
  },
  {
   "cell_type": "code",
   "execution_count": 9,
   "metadata": {},
   "outputs": [],
   "source": [
    "def is_unival(tree):\n",
    "    if tree.left == None and tree.right == None:\n",
    "        return True\n",
    "    ref = tree.left.val\n",
    "    return tree.val == ref and is_unival_rec(tree.left,ref) and is_unival_rec(tree.right,ref)\n",
    "    "
   ]
  },
  {
   "cell_type": "code",
   "execution_count": 14,
   "metadata": {},
   "outputs": [],
   "source": [
    "def count_unival(tree):\n",
    "    if tree.left == None and tree.right == None:\n",
    "        return 1\n",
    "    return is_unival(tree)+ count_unival(tree.left) + count_unival(tree.right)"
   ]
  },
  {
   "cell_type": "code",
   "execution_count": 10,
   "metadata": {},
   "outputs": [],
   "source": [
    "node2 = Node(0,Node(1,None,None),Node(0,Node(1,Node(1,None,None),Node(1,None,None)),Node(0,None,None)))"
   ]
  },
  {
   "cell_type": "code",
   "execution_count": 16,
   "metadata": {},
   "outputs": [],
   "source": [
    "assert count_unival(node2)==5"
   ]
  },
  {
   "cell_type": "code",
   "execution_count": null,
   "metadata": {},
   "outputs": [],
   "source": []
  }
 ],
 "metadata": {
  "kernelspec": {
   "display_name": "Python 3",
   "language": "python",
   "name": "python3"
  },
  "language_info": {
   "codemirror_mode": {
    "name": "ipython",
    "version": 3
   },
   "file_extension": ".py",
   "mimetype": "text/x-python",
   "name": "python",
   "nbconvert_exporter": "python",
   "pygments_lexer": "ipython3",
   "version": "3.8.3"
  }
 },
 "nbformat": 4,
 "nbformat_minor": 4
}
