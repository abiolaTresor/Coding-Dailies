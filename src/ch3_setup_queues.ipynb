{
  "nbformat": 4,
  "nbformat_minor": 0,
  "metadata": {
    "colab": {
      "name": "ch3_setup_queues.ipynb",
      "provenance": [],
      "authorship_tag": "ABX9TyPsKje/z7be+yDm07u1TQ4Y",
      "include_colab_link": true
    },
    "kernelspec": {
      "name": "python3",
      "display_name": "Python 3"
    },
    "language_info": {
      "name": "python"
    }
  },
  "cells": [
    {
      "cell_type": "markdown",
      "metadata": {
        "id": "view-in-github",
        "colab_type": "text"
      },
      "source": [
        "<a href=\"https://colab.research.google.com/github/abiolaTresor/Coding-Dailies/blob/master/src/ch3_setup_queues.ipynb\" target=\"_parent\"><img src=\"https://colab.research.google.com/assets/colab-badge.svg\" alt=\"Open In Colab\"/></a>"
      ]
    },
    {
      "cell_type": "code",
      "metadata": {
        "id": "7QT-n1cQ-BF_"
      },
      "source": [
        "class Node:\n",
        "\n",
        "  def __init__(self,data):\n",
        "    self.data__ = data\n",
        "    self.next__ = None\n",
        "\n",
        "  def get_data(self):\n",
        "    return self.data__\n",
        "  \n",
        "  def get_next(self):\n",
        "    return self.next__\n",
        "  \n",
        "  def set_data(self, data):\n",
        "    self.data__ = data\n",
        "    return True\n",
        "  \n",
        "  def set_next(self, next):\n",
        "    self.next__ = next\n",
        "    return True\n",
        "\n",
        "  def __eq__(self, other):\n",
        "    if isinstance(other, Node):\n",
        "      return self.data__ == other.get_data()\n",
        "  \n",
        "  def __str__(self):\n",
        "    if self.next__ is None:\n",
        "      print(\"{}->None\".format(self.data__))\n",
        "    else:\n",
        "      print(\"{}->Next\".format(self.data__))"
      ],
      "execution_count": null,
      "outputs": []
    },
    {
      "cell_type": "code",
      "metadata": {
        "id": "8RLsntYOENLT"
      },
      "source": [
        "node1 = Node(1)"
      ],
      "execution_count": 11,
      "outputs": []
    },
    {
      "cell_type": "code",
      "metadata": {
        "id": "XeS33nGuEb_3"
      },
      "source": [
        "assert(node1.get_data()==(1))"
      ],
      "execution_count": 12,
      "outputs": []
    },
    {
      "cell_type": "code",
      "metadata": {
        "id": "yg53r929EgeN"
      },
      "source": [
        "assert(node1.get_next() is None)"
      ],
      "execution_count": 13,
      "outputs": []
    },
    {
      "cell_type": "code",
      "metadata": {
        "id": "f_BPBc3-ElOX",
        "colab": {
          "base_uri": "https://localhost:8080/"
        },
        "outputId": "8122483b-dfdd-4da2-fb34-ac6feaff14af"
      },
      "source": [
        "node1.set_data(10)"
      ],
      "execution_count": 14,
      "outputs": [
        {
          "output_type": "execute_result",
          "data": {
            "text/plain": [
              "True"
            ]
          },
          "metadata": {},
          "execution_count": 14
        }
      ]
    },
    {
      "cell_type": "code",
      "metadata": {
        "id": "_4CQSWKgEoZG"
      },
      "source": [
        "assert (node1.get_data()==10)"
      ],
      "execution_count": 15,
      "outputs": []
    },
    {
      "cell_type": "code",
      "metadata": {
        "id": "d4_mZG_CEsP6",
        "colab": {
          "base_uri": "https://localhost:8080/"
        },
        "outputId": "7f62f84d-d01f-4bf4-aa8f-bae6b4e7d3eb"
      },
      "source": [
        "node1.set_next(Node(20))"
      ],
      "execution_count": 16,
      "outputs": [
        {
          "output_type": "execute_result",
          "data": {
            "text/plain": [
              "True"
            ]
          },
          "metadata": {},
          "execution_count": 16
        }
      ]
    },
    {
      "cell_type": "code",
      "metadata": {
        "id": "ldtKviNkEvNf"
      },
      "source": [
        "assert(node1.get_next().get_data()==20)"
      ],
      "execution_count": 17,
      "outputs": []
    },
    {
      "cell_type": "code",
      "metadata": {
        "id": "ovL6WLayE0Ca"
      },
      "source": [
        "class Queue:\n",
        "  def __init__(self, node):\n",
        "    self.first_node__ = node\n",
        "    self.last_node__ = node\n",
        "    node.set_next(None)\n",
        "\n",
        "  def is_empty(self):\n",
        "    return self.first_node__ is None\n",
        "\n",
        "  def add(self, item):\n",
        "    item.set_next(None)\n",
        "    if self.is_empty():\n",
        "      self.first_node__ = item\n",
        "      self.last_node__ = item\n",
        "\n",
        "    else:\n",
        "      self.last_node__.set_next(item)\n",
        "      self.last_node__ = item\n",
        "    return True\n",
        "\n",
        "  def remove(self):\n",
        "    if self.is_empty():\n",
        "      return None\n",
        "    else:\n",
        "      outgoing_node = self.first_node__\n",
        "      self.first_node__ = self.first_node__.get_next()\n",
        "      if self.first_node__ is None:\n",
        "        self.last_node__ = None\n",
        "      outgoing_node.set_next(None)\n",
        "      return outgoing_node\n",
        "\n",
        "  def peek(self):\n",
        "    if self.is_empty():\n",
        "      return None\n",
        "    else:\n",
        "      return self.first_node__\n",
        "\n",
        "  \n",
        "  def __str__(self):\n",
        "    printing_list = []\n",
        "    node = self.first_node__\n",
        "    while not node is None:\n",
        "      printing_list.append(\"{}->\".format(node.get_data()))\n",
        "      node = node.get_next()\n",
        "    printing_list.append(\"None\")\n",
        "    return \"\".join(printing_list)\n"
      ],
      "execution_count": 27,
      "outputs": []
    },
    {
      "cell_type": "code",
      "metadata": {
        "id": "Oqm71Z0yJM_A"
      },
      "source": [
        "my_queue = Queue(Node(1))"
      ],
      "execution_count": 28,
      "outputs": []
    },
    {
      "cell_type": "code",
      "metadata": {
        "colab": {
          "base_uri": "https://localhost:8080/"
        },
        "id": "7rk0JCEURWmu",
        "outputId": "f74d6c15-8e5e-48f5-8f26-ca1514ae7f7f"
      },
      "source": [
        "my_queue.add(Node(2))"
      ],
      "execution_count": 29,
      "outputs": [
        {
          "output_type": "execute_result",
          "data": {
            "text/plain": [
              "True"
            ]
          },
          "metadata": {},
          "execution_count": 29
        }
      ]
    },
    {
      "cell_type": "code",
      "metadata": {
        "colab": {
          "base_uri": "https://localhost:8080/"
        },
        "id": "kXXuahiNRb23",
        "outputId": "53688f37-62e6-4981-c95c-ffabd1d196b8"
      },
      "source": [
        "print(my_queue)"
      ],
      "execution_count": 30,
      "outputs": [
        {
          "output_type": "stream",
          "name": "stdout",
          "text": [
            "1->2->None\n"
          ]
        }
      ]
    },
    {
      "cell_type": "code",
      "metadata": {
        "colab": {
          "base_uri": "https://localhost:8080/"
        },
        "id": "s2okvfQhRfM6",
        "outputId": "2861b3ac-f654-4060-ab42-3b63d5ac65dc"
      },
      "source": [
        "my_queue.add(Node(3))"
      ],
      "execution_count": 31,
      "outputs": [
        {
          "output_type": "execute_result",
          "data": {
            "text/plain": [
              "True"
            ]
          },
          "metadata": {},
          "execution_count": 31
        }
      ]
    },
    {
      "cell_type": "code",
      "metadata": {
        "colab": {
          "base_uri": "https://localhost:8080/"
        },
        "id": "OS5houzvR4YM",
        "outputId": "ec894d74-1518-4aa1-98ab-89f1eb7a5ce9"
      },
      "source": [
        "print(my_queue)"
      ],
      "execution_count": 32,
      "outputs": [
        {
          "output_type": "stream",
          "name": "stdout",
          "text": [
            "1->2->3->None\n"
          ]
        }
      ]
    },
    {
      "cell_type": "code",
      "metadata": {
        "colab": {
          "base_uri": "https://localhost:8080/"
        },
        "id": "1kjnSOvFR8y3",
        "outputId": "ffb915a8-b93b-43f9-ec21-ca3c320e261a"
      },
      "source": [
        "my_queue.peek().get_data()"
      ],
      "execution_count": 33,
      "outputs": [
        {
          "output_type": "execute_result",
          "data": {
            "text/plain": [
              "1"
            ]
          },
          "metadata": {},
          "execution_count": 33
        }
      ]
    },
    {
      "cell_type": "code",
      "metadata": {
        "colab": {
          "base_uri": "https://localhost:8080/"
        },
        "id": "F4fLYYODSLKO",
        "outputId": "18109d0e-8652-4f1a-a0e3-9b411db2de40"
      },
      "source": [
        "my_queue.remove()"
      ],
      "execution_count": 34,
      "outputs": [
        {
          "output_type": "execute_result",
          "data": {
            "text/plain": [
              "<__main__.Node at 0x7f994f638190>"
            ]
          },
          "metadata": {},
          "execution_count": 34
        }
      ]
    },
    {
      "cell_type": "code",
      "metadata": {
        "colab": {
          "base_uri": "https://localhost:8080/"
        },
        "id": "HEkAN7AZSN-J",
        "outputId": "3b615934-c662-4a70-b01a-218b62858761"
      },
      "source": [
        "print(my_queue)"
      ],
      "execution_count": 35,
      "outputs": [
        {
          "output_type": "stream",
          "name": "stdout",
          "text": [
            "2->3->None\n"
          ]
        }
      ]
    },
    {
      "cell_type": "code",
      "metadata": {
        "id": "vqNwJUTzSRi_"
      },
      "source": [
        ""
      ],
      "execution_count": null,
      "outputs": []
    }
  ]
}