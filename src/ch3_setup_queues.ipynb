{
  "nbformat": 4,
  "nbformat_minor": 0,
  "metadata": {
    "colab": {
      "name": "ch3_setup_queues.ipynb",
      "provenance": [],
      "authorship_tag": "ABX9TyPkFKPWbPwKUzGDbpn5SIw0",
      "include_colab_link": true
    },
    "kernelspec": {
      "name": "python3",
      "display_name": "Python 3"
    },
    "language_info": {
      "name": "python"
    }
  },
  "cells": [
    {
      "cell_type": "markdown",
      "metadata": {
        "id": "view-in-github",
        "colab_type": "text"
      },
      "source": [
        "<a href=\"https://colab.research.google.com/github/abiolaTresor/Coding-Dailies/blob/master/src/ch3_setup_queues.ipynb\" target=\"_parent\"><img src=\"https://colab.research.google.com/assets/colab-badge.svg\" alt=\"Open In Colab\"/></a>"
      ]
    },
    {
      "cell_type": "code",
      "metadata": {
        "id": "7QT-n1cQ-BF_"
      },
      "source": [
        "class Node:\n",
        "\n",
        "  def __init__(self,data):\n",
        "    self.data__ = data\n",
        "    self.next__ = None\n",
        "\n",
        "  def get_data(self):\n",
        "    return self.data__\n",
        "  \n",
        "  def get_next(self):\n",
        "    return self.next__\n",
        "  \n",
        "  def set_data(self, data):\n",
        "    self.data__ = data\n",
        "    return True\n",
        "  \n",
        "  def set_next(self, next):\n",
        "    self.next__ = next\n",
        "    return True\n",
        "\n",
        "  def __eq__(self, other):\n",
        "    if isinstance(other, Node):\n",
        "      return self.data__ == other.get_data()\n",
        "  \n",
        "  def __str__(self):\n",
        "    if self.next__ is None:\n",
        "      print(\"{}->None\".format(self.data__))\n",
        "    else:\n",
        "      print(\"{}->Next\".format(self.data__))"
      ],
      "execution_count": 3,
      "outputs": []
    },
    {
      "cell_type": "code",
      "metadata": {
        "id": "8RLsntYOENLT"
      },
      "source": [
        "node1 = Node(1)"
      ],
      "execution_count": 4,
      "outputs": []
    },
    {
      "cell_type": "code",
      "metadata": {
        "id": "XeS33nGuEb_3"
      },
      "source": [
        "assert(node1.get_data()==(1))"
      ],
      "execution_count": 5,
      "outputs": []
    },
    {
      "cell_type": "code",
      "metadata": {
        "id": "yg53r929EgeN"
      },
      "source": [
        "assert(node1.get_next() is None)"
      ],
      "execution_count": 6,
      "outputs": []
    },
    {
      "cell_type": "code",
      "metadata": {
        "id": "f_BPBc3-ElOX",
        "outputId": "41a241c8-ba73-4052-bcbd-63fdea437efd",
        "colab": {
          "base_uri": "https://localhost:8080/"
        }
      },
      "source": [
        "node1.set_data(10)"
      ],
      "execution_count": 7,
      "outputs": [
        {
          "output_type": "execute_result",
          "data": {
            "text/plain": [
              "True"
            ]
          },
          "metadata": {},
          "execution_count": 7
        }
      ]
    },
    {
      "cell_type": "code",
      "metadata": {
        "id": "_4CQSWKgEoZG"
      },
      "source": [
        "assert (node1.get_data()==10)"
      ],
      "execution_count": 8,
      "outputs": []
    },
    {
      "cell_type": "code",
      "metadata": {
        "id": "d4_mZG_CEsP6",
        "outputId": "546f386e-a73e-498a-e8a6-fae6776a8f66",
        "colab": {
          "base_uri": "https://localhost:8080/"
        }
      },
      "source": [
        "node1.set_next(Node(20))"
      ],
      "execution_count": 9,
      "outputs": [
        {
          "output_type": "execute_result",
          "data": {
            "text/plain": [
              "True"
            ]
          },
          "metadata": {},
          "execution_count": 9
        }
      ]
    },
    {
      "cell_type": "code",
      "metadata": {
        "id": "ldtKviNkEvNf"
      },
      "source": [
        "assert(node1.get_next().get_data()==20)"
      ],
      "execution_count": 10,
      "outputs": []
    },
    {
      "cell_type": "code",
      "metadata": {
        "id": "ovL6WLayE0Ca"
      },
      "source": [
        ""
      ],
      "execution_count": null,
      "outputs": []
    }
  ]
}