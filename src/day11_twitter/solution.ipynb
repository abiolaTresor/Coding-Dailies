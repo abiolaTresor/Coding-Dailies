{
 "cells": [
  {
   "cell_type": "code",
   "execution_count": 5,
   "metadata": {},
   "outputs": [],
   "source": [
    "def auto_complete(s,st):\n",
    "    s_len = len(s)\n",
    "    to_return = set()\n",
    "    for query in st:\n",
    "        if len(query) >= s_len:\n",
    "            if query[:s_len] == s:\n",
    "                to_return.add(query)\n",
    "    return to_return\n",
    "            "
   ]
  },
  {
   "cell_type": "code",
   "execution_count": 6,
   "metadata": {},
   "outputs": [
    {
     "name": "stdout",
     "output_type": "stream",
     "text": [
      "{'deer', 'deal'}\n"
     ]
    }
   ],
   "source": [
    "print(auto_complete(\"de\",[\"dog\", \"deer\", \"deal\"]))"
   ]
  },
  {
   "cell_type": "code",
   "execution_count": null,
   "metadata": {},
   "outputs": [],
   "source": []
  }
 ],
 "metadata": {
  "kernelspec": {
   "display_name": "Python 3",
   "language": "python",
   "name": "python3"
  },
  "language_info": {
   "codemirror_mode": {
    "name": "ipython",
    "version": 3
   },
   "file_extension": ".py",
   "mimetype": "text/x-python",
   "name": "python",
   "nbconvert_exporter": "python",
   "pygments_lexer": "ipython3",
   "version": "3.8.3"
  }
 },
 "nbformat": 4,
 "nbformat_minor": 4
}
