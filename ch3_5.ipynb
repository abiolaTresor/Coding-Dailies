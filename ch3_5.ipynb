{
  "nbformat": 4,
  "nbformat_minor": 0,
  "metadata": {
    "colab": {
      "name": "ch3_5.ipynb",
      "provenance": [],
      "collapsed_sections": [],
      "authorship_tag": "ABX9TyN0WT0pWTGsmprB9ZHJLDnu",
      "include_colab_link": true
    },
    "kernelspec": {
      "name": "python3",
      "display_name": "Python 3"
    },
    "language_info": {
      "name": "python"
    }
  },
  "cells": [
    {
      "cell_type": "markdown",
      "metadata": {
        "id": "view-in-github",
        "colab_type": "text"
      },
      "source": [
        "<a href=\"https://colab.research.google.com/github/abiolaTresor/Coding-Dailies/blob/master/ch3_5.ipynb\" target=\"_parent\"><img src=\"https://colab.research.google.com/assets/colab-badge.svg\" alt=\"Open In Colab\"/></a>"
      ]
    },
    {
      "cell_type": "code",
      "metadata": {
        "id": "agyFrcIGjK2s"
      },
      "source": [
        "class Node():\n",
        "  def __init__(self, data):\n",
        "    self.data__ = data\n",
        "    self.next__ = None\n",
        "  \n",
        "  def set_next(self,next):\n",
        "    self.next__ = next\n",
        "    return True\n",
        "\n",
        "  def set_data(self, data):\n",
        "    self.data__ = data\n",
        "    return True\n",
        "\n",
        "  def get_data(self):\n",
        "    return self.data__\n",
        "\n",
        "  def get_next(self):\n",
        "    return self.next__\n",
        "\n",
        "  def __eq__(self, other):\n",
        "    if isinstance(other, Node):\n",
        "      return self.data__ == other.get_data()\n",
        "    else:\n",
        "      return False\n",
        "\n"
      ],
      "execution_count": 1,
      "outputs": []
    },
    {
      "cell_type": "code",
      "metadata": {
        "id": "lUzKxFdRFlH4"
      },
      "source": [
        "#tests\n",
        "node1 = Node(5)\n",
        "node2 = Node(7)"
      ],
      "execution_count": 2,
      "outputs": []
    },
    {
      "cell_type": "code",
      "metadata": {
        "colab": {
          "base_uri": "https://localhost:8080/"
        },
        "id": "u92ax29sFyEZ",
        "outputId": "25c65259-98bd-44ca-f30a-6f0ce8d723df"
      },
      "source": [
        "node1.get_data()"
      ],
      "execution_count": 3,
      "outputs": [
        {
          "output_type": "execute_result",
          "data": {
            "text/plain": [
              "5"
            ]
          },
          "metadata": {},
          "execution_count": 3
        }
      ]
    },
    {
      "cell_type": "code",
      "metadata": {
        "colab": {
          "base_uri": "https://localhost:8080/"
        },
        "id": "QJVeWjbcF1hU",
        "outputId": "eabfb671-232c-434d-dea1-f2283d70e941"
      },
      "source": [
        "node1.set_data(10)"
      ],
      "execution_count": 4,
      "outputs": [
        {
          "output_type": "execute_result",
          "data": {
            "text/plain": [
              "True"
            ]
          },
          "metadata": {},
          "execution_count": 4
        }
      ]
    },
    {
      "cell_type": "code",
      "metadata": {
        "colab": {
          "base_uri": "https://localhost:8080/"
        },
        "id": "r0m9PYeBF8YH",
        "outputId": "a3c5b0ef-4d37-47e3-9c1a-39119e9fde64"
      },
      "source": [
        "node2.get_data()"
      ],
      "execution_count": 5,
      "outputs": [
        {
          "output_type": "execute_result",
          "data": {
            "text/plain": [
              "7"
            ]
          },
          "metadata": {},
          "execution_count": 5
        }
      ]
    },
    {
      "cell_type": "code",
      "metadata": {
        "colab": {
          "base_uri": "https://localhost:8080/"
        },
        "id": "u3EFZiD-F_6G",
        "outputId": "c5639d44-ff73-4d0e-9c4c-c5ee78db17fc"
      },
      "source": [
        "node1.get_data()"
      ],
      "execution_count": 6,
      "outputs": [
        {
          "output_type": "execute_result",
          "data": {
            "text/plain": [
              "10"
            ]
          },
          "metadata": {},
          "execution_count": 6
        }
      ]
    },
    {
      "cell_type": "code",
      "metadata": {
        "colab": {
          "base_uri": "https://localhost:8080/"
        },
        "id": "JbN5OS8dGCur",
        "outputId": "0cee415a-6cfe-44b3-cba5-59b8e476123e"
      },
      "source": [
        "node1 == node1"
      ],
      "execution_count": 7,
      "outputs": [
        {
          "output_type": "execute_result",
          "data": {
            "text/plain": [
              "True"
            ]
          },
          "metadata": {},
          "execution_count": 7
        }
      ]
    },
    {
      "cell_type": "code",
      "metadata": {
        "colab": {
          "base_uri": "https://localhost:8080/"
        },
        "id": "KXAGwL8HGFNx",
        "outputId": "0f9e9266-fdb6-4fdd-b779-cc9321c0b4ee"
      },
      "source": [
        "node1 == 2"
      ],
      "execution_count": 8,
      "outputs": [
        {
          "output_type": "execute_result",
          "data": {
            "text/plain": [
              "False"
            ]
          },
          "metadata": {},
          "execution_count": 8
        }
      ]
    },
    {
      "cell_type": "code",
      "metadata": {
        "id": "TiwKbgmoGTSC"
      },
      "source": [
        "class Stack():\n",
        "  def __init__(self, top):\n",
        "    self.top__ = top\n",
        "\n",
        "  def is_empty(self):\n",
        "    top = self.top__\n",
        "    return top is None\n",
        "\n",
        "  def peek(self):\n",
        "    return self.top__\n",
        "\n",
        "  def push(self, item):\n",
        "    item.set_next(self.top__)\n",
        "    self.top__ = item\n",
        "    return True\n",
        "\n",
        "  def pop(self):\n",
        "    if self.is_empty():\n",
        "      return None\n",
        "    old_top = self.top__\n",
        "    self.top__ = self.top__.get_next()\n",
        "    return old_top\n",
        "\n",
        "  def buble_sort(self):\n",
        "    permutation_occured = True\n",
        "    while permutation_occured:\n",
        "      node = self.top__\n",
        "      permutations_counter = 0\n",
        "      while not node is None:\n",
        "        node_next = node.get_next()\n",
        "        if not node_next is None:\n",
        "          current_data = node.get_data()\n",
        "          next_data = node_next.get_data()\n",
        "          if next_data < current_data:\n",
        "            permutations_counter +=1\n",
        "            node.set_data(next_data)\n",
        "            node_next.set_data(current_data)\n",
        "        node = node_next\n",
        "      permutation_occured = permutations_counter > 0\n",
        "    return True\n",
        "\n",
        "  def __str__(self):\n",
        "    arr = []\n",
        "    node = self.top__\n",
        "    while not node is None:\n",
        "      arr.append(str(node.get_data()))\n",
        "      arr.append(\"->\")\n",
        "      node = node.get_next()\n",
        "    arr.append(\"None\")\n",
        "    return \"\".join(arr)\n",
        "\n",
        "  \n"
      ],
      "execution_count": 19,
      "outputs": []
    },
    {
      "cell_type": "code",
      "metadata": {
        "colab": {
          "base_uri": "https://localhost:8080/"
        },
        "id": "VdnR5wRiJbXt",
        "outputId": "8b9f64fc-a9bd-4b6f-9509-e14a4a18c137"
      },
      "source": [
        "node1.get_data()"
      ],
      "execution_count": 20,
      "outputs": [
        {
          "output_type": "execute_result",
          "data": {
            "text/plain": [
              "10"
            ]
          },
          "metadata": {},
          "execution_count": 20
        }
      ]
    },
    {
      "cell_type": "code",
      "metadata": {
        "colab": {
          "base_uri": "https://localhost:8080/"
        },
        "id": "E3w6ijr5JgDB",
        "outputId": "d6e2fea1-ef3b-4883-9007-9bf3bc99cede"
      },
      "source": [
        "node2.get_data()"
      ],
      "execution_count": 21,
      "outputs": [
        {
          "output_type": "execute_result",
          "data": {
            "text/plain": [
              "7"
            ]
          },
          "metadata": {},
          "execution_count": 21
        }
      ]
    },
    {
      "cell_type": "code",
      "metadata": {
        "id": "p_KUe4NAJhlv"
      },
      "source": [
        "node3 = Node(17)"
      ],
      "execution_count": 22,
      "outputs": []
    },
    {
      "cell_type": "code",
      "metadata": {
        "colab": {
          "base_uri": "https://localhost:8080/"
        },
        "id": "0bbVkKacJp5b",
        "outputId": "a240782c-33bd-42e5-ec6b-9094a4dbe0f1"
      },
      "source": [
        "node3.get_data()"
      ],
      "execution_count": 23,
      "outputs": [
        {
          "output_type": "execute_result",
          "data": {
            "text/plain": [
              "17"
            ]
          },
          "metadata": {},
          "execution_count": 23
        }
      ]
    },
    {
      "cell_type": "code",
      "metadata": {
        "colab": {
          "base_uri": "https://localhost:8080/"
        },
        "id": "SOw24yQ9Jr88",
        "outputId": "a1dc49ca-6349-4697-ddd7-b1d9306bfdde"
      },
      "source": [
        "my_stack = Stack(node1)\n",
        "my_stack.push(node2)\n",
        "my_stack.push(node3)"
      ],
      "execution_count": 24,
      "outputs": [
        {
          "output_type": "execute_result",
          "data": {
            "text/plain": [
              "True"
            ]
          },
          "metadata": {},
          "execution_count": 24
        }
      ]
    },
    {
      "cell_type": "code",
      "metadata": {
        "colab": {
          "base_uri": "https://localhost:8080/"
        },
        "id": "0QI94PzZJxYz",
        "outputId": "5dba8d75-a164-471a-8143-95964609668e"
      },
      "source": [
        "print(my_stack)"
      ],
      "execution_count": 25,
      "outputs": [
        {
          "output_type": "stream",
          "name": "stdout",
          "text": [
            "17->7->10->None\n"
          ]
        }
      ]
    },
    {
      "cell_type": "code",
      "metadata": {
        "colab": {
          "base_uri": "https://localhost:8080/"
        },
        "id": "SD7frggMJ2Sp",
        "outputId": "b3a3f332-baca-40e7-fa91-e0d2f000c2aa"
      },
      "source": [
        "my_stack.peek().get_data()"
      ],
      "execution_count": 26,
      "outputs": [
        {
          "output_type": "execute_result",
          "data": {
            "text/plain": [
              "17"
            ]
          },
          "metadata": {},
          "execution_count": 26
        }
      ]
    },
    {
      "cell_type": "code",
      "metadata": {
        "colab": {
          "base_uri": "https://localhost:8080/"
        },
        "id": "n341QGZZMRhX",
        "outputId": "873d7acd-44b7-4b42-cc4c-8726ed296179"
      },
      "source": [
        "print(my_stack)"
      ],
      "execution_count": 27,
      "outputs": [
        {
          "output_type": "stream",
          "name": "stdout",
          "text": [
            "17->7->10->None\n"
          ]
        }
      ]
    },
    {
      "cell_type": "code",
      "metadata": {
        "id": "KrLV_lwRMWVV",
        "colab": {
          "base_uri": "https://localhost:8080/"
        },
        "outputId": "a98d1402-04a1-44c2-f967-506d714c0007"
      },
      "source": [
        "my_stack.buble_sort()"
      ],
      "execution_count": 28,
      "outputs": [
        {
          "output_type": "execute_result",
          "data": {
            "text/plain": [
              "True"
            ]
          },
          "metadata": {},
          "execution_count": 28
        }
      ]
    },
    {
      "cell_type": "code",
      "metadata": {
        "colab": {
          "base_uri": "https://localhost:8080/"
        },
        "id": "Qc599WtekVqj",
        "outputId": "66493aae-c605-402e-cb3d-06d9b1a485be"
      },
      "source": [
        "print(my_stack)"
      ],
      "execution_count": 29,
      "outputs": [
        {
          "output_type": "stream",
          "name": "stdout",
          "text": [
            "7->10->17->None\n"
          ]
        }
      ]
    },
    {
      "cell_type": "code",
      "metadata": {
        "id": "TLP900K1kYmU"
      },
      "source": [
        ""
      ],
      "execution_count": null,
      "outputs": []
    }
  ]
}